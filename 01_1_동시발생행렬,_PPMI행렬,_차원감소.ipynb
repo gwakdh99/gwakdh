{
  "nbformat": 4,
  "nbformat_minor": 0,
  "metadata": {
    "kernelspec": {
      "display_name": "Python 3",
      "language": "python",
      "name": "python3"
    },
    "language_info": {
      "codemirror_mode": {
        "name": "ipython",
        "version": 3
      },
      "file_extension": ".py",
      "mimetype": "text/x-python",
      "name": "python",
      "nbconvert_exporter": "python",
      "pygments_lexer": "ipython3",
      "version": "3.7.1"
    },
    "colab": {
      "name": "01-1. 동시발생행렬, PPMI행렬, 차원감소",
      "provenance": [],
      "collapsed_sections": [],
      "include_colab_link": true
    }
  },
  "cells": [
    {
      "cell_type": "markdown",
      "metadata": {
        "id": "view-in-github",
        "colab_type": "text"
      },
      "source": [
        "<a href=\"https://colab.research.google.com/github/gwakdh99/gwakdh/blob/master/01_1_%EB%8F%99%EC%8B%9C%EB%B0%9C%EC%83%9D%ED%96%89%EB%A0%AC%2C_PPMI%ED%96%89%EB%A0%AC%2C_%EC%B0%A8%EC%9B%90%EA%B0%90%EC%86%8C.ipynb\" target=\"_parent\"><img src=\"https://colab.research.google.com/assets/colab-badge.svg\" alt=\"Open In Colab\"/></a>"
      ]
    },
    {
      "cell_type": "code",
      "metadata": {
        "id": "gvTmST6Nz4i5",
        "colab_type": "code",
        "colab": {}
      },
      "source": [
        "import numpy as np"
      ],
      "execution_count": 0,
      "outputs": []
    },
    {
      "cell_type": "markdown",
      "metadata": {
        "id": "geYXY447uQi3",
        "colab_type": "text"
      },
      "source": [
        "## Corpus ='you say goodbye and i say hello.' <br>동시발생행렬(Co-occurrence Matrix)</br>"
      ]
    },
    {
      "cell_type": "code",
      "metadata": {
        "id": "GBMkLhsQz4i-",
        "colab_type": "code",
        "colab": {}
      },
      "source": [
        "C = np.array([[0, 1, 0, 0, 0, 0, 0], [1, 0, 1, 0, 1, 1, 0], [0, 1, 0, 1, 0, 0, 0], [0, 0, 1, 0, 1, 0, 0], [0, 1, 0, 1, 0, 0, 0], [0, 1, 0, 0, 0, 0, 1], [0, 0, 0, 0, 0, 1, 0] ])"
      ],
      "execution_count": 0,
      "outputs": []
    },
    {
      "cell_type": "code",
      "metadata": {
        "id": "JbA_GrXSz4jB",
        "colab_type": "code",
        "outputId": "4d0cafa7-6213-45fd-e77f-2cad86453037",
        "colab": {
          "base_uri": "https://localhost:8080/",
          "height": 147
        }
      },
      "source": [
        "C"
      ],
      "execution_count": 3,
      "outputs": [
        {
          "output_type": "execute_result",
          "data": {
            "text/plain": [
              "array([[0, 1, 0, 0, 0, 0, 0],\n",
              "       [1, 0, 1, 0, 1, 1, 0],\n",
              "       [0, 1, 0, 1, 0, 0, 0],\n",
              "       [0, 0, 1, 0, 1, 0, 0],\n",
              "       [0, 1, 0, 1, 0, 0, 0],\n",
              "       [0, 1, 0, 0, 0, 0, 1],\n",
              "       [0, 0, 0, 0, 0, 1, 0]])"
            ]
          },
          "metadata": {
            "tags": []
          },
          "execution_count": 3
        }
      ]
    },
    {
      "cell_type": "code",
      "metadata": {
        "id": "U-E_CisAz4jG",
        "colab_type": "code",
        "outputId": "3f3e9e0e-1d0d-4be4-eb0c-d6eaf08abb26",
        "colab": {
          "base_uri": "https://localhost:8080/",
          "height": 36
        }
      },
      "source": [
        "C.shape[1]"
      ],
      "execution_count": 4,
      "outputs": [
        {
          "output_type": "execute_result",
          "data": {
            "text/plain": [
              "7"
            ]
          },
          "metadata": {
            "tags": []
          },
          "execution_count": 4
        }
      ]
    },
    {
      "cell_type": "code",
      "metadata": {
        "id": "nw6jvhFgz4jI",
        "colab_type": "code",
        "outputId": "ecd9620f-8680-4e01-a183-79d5e1006c51",
        "colab": {
          "base_uri": "https://localhost:8080/",
          "height": 36
        }
      },
      "source": [
        "np.sum(C)"
      ],
      "execution_count": 5,
      "outputs": [
        {
          "output_type": "execute_result",
          "data": {
            "text/plain": [
              "14"
            ]
          },
          "metadata": {
            "tags": []
          },
          "execution_count": 5
        }
      ]
    },
    {
      "cell_type": "code",
      "metadata": {
        "id": "XW1YPqA6z4jL",
        "colab_type": "code",
        "outputId": "b848fd67-a90f-44bb-f5c8-5c8e9e15a0bc",
        "colab": {
          "base_uri": "https://localhost:8080/",
          "height": 147
        }
      },
      "source": [
        "np.zeros_like(C, np.float32)"
      ],
      "execution_count": 6,
      "outputs": [
        {
          "output_type": "execute_result",
          "data": {
            "text/plain": [
              "array([[0., 0., 0., 0., 0., 0., 0.],\n",
              "       [0., 0., 0., 0., 0., 0., 0.],\n",
              "       [0., 0., 0., 0., 0., 0., 0.],\n",
              "       [0., 0., 0., 0., 0., 0., 0.],\n",
              "       [0., 0., 0., 0., 0., 0., 0.],\n",
              "       [0., 0., 0., 0., 0., 0., 0.],\n",
              "       [0., 0., 0., 0., 0., 0., 0.]], dtype=float32)"
            ]
          },
          "metadata": {
            "tags": []
          },
          "execution_count": 6
        }
      ]
    },
    {
      "cell_type": "code",
      "metadata": {
        "id": "YU8mcqa1z4jN",
        "colab_type": "code",
        "outputId": "9b8ff5e2-dffd-4ad4-c8d4-4c8b4ef652e4",
        "colab": {
          "base_uri": "https://localhost:8080/",
          "height": 36
        }
      },
      "source": [
        "# C 행렬의 열성분의 합을 성분으로 하는 행렬\n",
        "np.sum(C, axis = 0)"
      ],
      "execution_count": 9,
      "outputs": [
        {
          "output_type": "execute_result",
          "data": {
            "text/plain": [
              "array([1, 4, 2, 2, 2, 2, 1])"
            ]
          },
          "metadata": {
            "tags": []
          },
          "execution_count": 9
        }
      ]
    },
    {
      "cell_type": "code",
      "metadata": {
        "id": "1Vg1RO_Az4jQ",
        "colab_type": "code",
        "outputId": "878b5ae7-220e-48e5-f573-e0320c805bba",
        "colab": {
          "base_uri": "https://localhost:8080/",
          "height": 36
        }
      },
      "source": [
        "# C 행렬의 행성분의 합을 성분으로 하는 행렬\n",
        "np.sum(C, axis = 1)"
      ],
      "execution_count": 10,
      "outputs": [
        {
          "output_type": "execute_result",
          "data": {
            "text/plain": [
              "array([1, 4, 2, 2, 2, 2, 1])"
            ]
          },
          "metadata": {
            "tags": []
          },
          "execution_count": 10
        }
      ]
    },
    {
      "cell_type": "markdown",
      "metadata": {
        "id": "lstcRObpuNMa",
        "colab_type": "text"
      },
      "source": [
        "# PPMI 행렬 만들기"
      ]
    },
    {
      "cell_type": "code",
      "metadata": {
        "id": "rNqPg160z4jT",
        "colab_type": "code",
        "colab": {}
      },
      "source": [
        "def create_PPMI(mat, eps = 1e-8) : \n",
        "    dim = mat.shape[1]\n",
        "    N = np.sum(mat)\n",
        "    PPMI_matrix = np.zeros_like(mat, np.float32)\n",
        "    S = np.sum(mat, axis = 0)\n",
        "    \n",
        "    for i in range(dim) :\n",
        "        for j in range(dim) :\n",
        "                PPMI_matrix[i][j] = max(0, np.log2(mat[i][j] * N / ( (S[i]*S[j]) + eps ) ))\n",
        "                \n",
        "    return PPMI_matrix"
      ],
      "execution_count": 0,
      "outputs": []
    },
    {
      "cell_type": "code",
      "metadata": {
        "id": "AkageX-Hz4jX",
        "colab_type": "code",
        "outputId": "08f5cb67-1fde-4944-9f11-952d6b8616bc",
        "colab": {
          "base_uri": "https://localhost:8080/",
          "height": 54
        }
      },
      "source": [
        "W = create_PPMI(C)"
      ],
      "execution_count": 12,
      "outputs": [
        {
          "output_type": "stream",
          "text": [
            "/usr/local/lib/python3.6/dist-packages/ipykernel_launcher.py:9: RuntimeWarning: divide by zero encountered in log2\n",
            "  if __name__ == '__main__':\n"
          ],
          "name": "stderr"
        }
      ]
    },
    {
      "cell_type": "code",
      "metadata": {
        "id": "FqOpIHTWz4ja",
        "colab_type": "code",
        "outputId": "a65c6479-72d7-4950-c9b9-3b1275257770",
        "colab": {
          "base_uri": "https://localhost:8080/",
          "height": 147
        }
      },
      "source": [
        "print(np.round(W, 4)) # round 함수는 소수점 아래에서 반올림할 위치를 지정할 수 있다. "
      ],
      "execution_count": 14,
      "outputs": [
        {
          "output_type": "stream",
          "text": [
            "[[0.     1.8074 0.     0.     0.     0.     0.    ]\n",
            " [1.8074 0.     0.8074 0.     0.8074 0.8074 0.    ]\n",
            " [0.     0.8074 0.     1.8074 0.     0.     0.    ]\n",
            " [0.     0.     1.8074 0.     1.8074 0.     0.    ]\n",
            " [0.     0.8074 0.     1.8074 0.     0.     0.    ]\n",
            " [0.     0.8074 0.     0.     0.     0.     2.8074]\n",
            " [0.     0.     0.     0.     0.     2.8074 0.    ]]\n"
          ],
          "name": "stdout"
        }
      ]
    },
    {
      "cell_type": "markdown",
      "metadata": {
        "id": "dQcLTZsHz4jc",
        "colab_type": "text"
      },
      "source": [
        "## PPMI행렬에서 SVD (singular value decomposition)를 통해 밀집벡터 표현 얻기"
      ]
    },
    {
      "cell_type": "code",
      "metadata": {
        "id": "6X0NB7EPz4jd",
        "colab_type": "code",
        "colab": {}
      },
      "source": [
        "from sklearn.utils.extmath import randomized_svd  # sklearn은 SVD(특잇값분해)를 할 수 있는 모듈로 빠른속도를 가지고 있다. "
      ],
      "execution_count": 0,
      "outputs": []
    },
    {
      "cell_type": "code",
      "metadata": {
        "id": "_9aP9Hf3z4ji",
        "colab_type": "code",
        "outputId": "e610e5c5-eb08-44c4-d939-be85346003d0",
        "colab": {
          "base_uri": "https://localhost:8080/",
          "height": 36
        }
      },
      "source": [
        "dim = 5\n",
        "U, sigma, VT = randomized_svd(W, dim)\n",
        "print(\"%s차 Truncated 특잇값 분해\" %(dim))"
      ],
      "execution_count": 16,
      "outputs": [
        {
          "output_type": "stream",
          "text": [
            "5차 Truncated 특잇값 분해\n"
          ],
          "name": "stdout"
        }
      ]
    },
    {
      "cell_type": "code",
      "metadata": {
        "id": "1k1CXl-4z4js",
        "colab_type": "code",
        "outputId": "f35cefa1-cb3c-4148-fc77-e69797069bcd",
        "colab": {
          "base_uri": "https://localhost:8080/",
          "height": 370
        }
      },
      "source": [
        "print(\"W행렬은 대부분의 성분이 0인 행렬이었다.\")\n",
        "print(\"행렬의 모양 : \", np.shape(W))\n",
        "print(np.round(W, 6))\n",
        "print()\n",
        "print(\"U행렬은 대부분의 성분이 0이 아닌 W에 대응되는 차원감소 행렬이다.\")\n",
        "print(\"행렬의 모양 : \", np.shape(U))\n",
        "print(np.round(U, 6)) "
      ],
      "execution_count": 32,
      "outputs": [
        {
          "output_type": "stream",
          "text": [
            "W행렬은 대부분의 성분이 0인 행렬이었다.\n",
            "행렬의 모양 :  (7, 7)\n",
            "[[0.       1.807355 0.       0.       0.       0.       0.      ]\n",
            " [1.807355 0.       0.807355 0.       0.807355 0.807355 0.      ]\n",
            " [0.       0.807355 0.       1.807355 0.       0.       0.      ]\n",
            " [0.       0.       1.807355 0.       1.807355 0.       0.      ]\n",
            " [0.       0.807355 0.       1.807355 0.       0.       0.      ]\n",
            " [0.       0.807355 0.       0.       0.       0.       2.807355]\n",
            " [0.       0.       0.       0.       0.       2.807355 0.      ]]\n",
            "\n",
            "U행렬은 대부분의 성분이 0이 아닌 W에 대응되는 차원감소 행렬이다.\n",
            "행렬의 모양 :  (7, 5)\n",
            "[[ 3.40949e-01  1.00000e-06 -1.14686e-01  3.70290e-02 -5.67574e-01]\n",
            " [-1.00000e-06  5.97636e-01 -5.53790e-02 -1.71519e-01  6.19797e-01]\n",
            " [ 4.36312e-01  1.00000e-06 -4.84172e-01  1.56326e-01  1.37172e-01]\n",
            " [-1.00000e-06  4.97828e-01 -2.09055e-01 -6.47484e-01 -4.26660e-01]\n",
            " [ 4.36312e-01  1.00000e-06 -4.84172e-01  1.56326e-01  1.37172e-01]\n",
            " [ 7.09237e-01  1.00000e-06  6.50844e-01 -2.10139e-01  1.04075e-01]\n",
            " [-1.00000e-06  6.28489e-01  2.18253e-01  6.75974e-01 -2.51413e-01]]\n"
          ],
          "name": "stdout"
        }
      ]
    },
    {
      "cell_type": "markdown",
      "metadata": {
        "id": "Jczsy5ZEv0_0",
        "colab_type": "text"
      },
      "source": [
        "## SVD 에 대한 다른 예제 \n",
        "주어진 행렬 A의 근사행렬 A'를 SVD를 통해서 만들어보자."
      ]
    },
    {
      "cell_type": "code",
      "metadata": {
        "id": "TwJ0pxzdbIaK",
        "colab_type": "code",
        "colab": {}
      },
      "source": [
        "def SVD_TEST(A, dim_num = min(A.shape[0], A.shape[1]), rdgit = 7) :\n",
        "    U, S, VT = randomized_svd(A, dim_num)\n",
        "    print(\"다음 행렬의 특잇값 분해를 시작합니다. 차원 = %s\" %(dim_num))\n",
        "    print(np.round(A, rdgit))\n",
        "    print(\"-------------------------------------\")\n",
        "    print(\"왼쪽 직교행렬은 다음과 같습니다. \")\n",
        "    print(np.round(U, rdgit))\n",
        "    print()\n",
        "    print(\"중앙의 대각행렬은 다음과 같습니다.\")\n",
        "    S = np.diag(S)\n",
        "    print(np.round(S, rdgit))\n",
        "    print()\n",
        "    print(\"오른쪽의 직교행렬은 다음과 같습니다.\")\n",
        "    print(np.round(VT, rdgit))\n",
        "    print(\"-------------------------------------\")\n",
        "    return U, S, VT"
      ],
      "execution_count": 0,
      "outputs": []
    },
    {
      "cell_type": "code",
      "metadata": {
        "id": "NYmcEXiw1PKx",
        "colab_type": "code",
        "colab": {}
      },
      "source": [
        "A = np.array([[1, 0, 0, 0 ], [3,0, 0, 2], [2,0,3, 0], [1, 0, 0, 0], [0, 1, 0, 0]])"
      ],
      "execution_count": 0,
      "outputs": []
    },
    {
      "cell_type": "code",
      "metadata": {
        "id": "f2zG0Jsz0DXL",
        "colab_type": "code",
        "colab": {
          "base_uri": "https://localhost:8080/",
          "height": 36
        },
        "outputId": "0758d8c1-3646-4e16-a251-6eee8414281c"
      },
      "source": [
        "A.shape[0]"
      ],
      "execution_count": 138,
      "outputs": [
        {
          "output_type": "execute_result",
          "data": {
            "text/plain": [
              "5"
            ]
          },
          "metadata": {
            "tags": []
          },
          "execution_count": 138
        }
      ]
    },
    {
      "cell_type": "code",
      "metadata": {
        "id": "zG-SJe7MbRcg",
        "colab_type": "code",
        "outputId": "06ac9382-2746-4401-f3b3-4988e38b3143",
        "colab": {
          "base_uri": "https://localhost:8080/",
          "height": 463
        }
      },
      "source": [
        "U1, S1, VT1 = SVD_TEST(A, 3)"
      ],
      "execution_count": 141,
      "outputs": [
        {
          "output_type": "stream",
          "text": [
            "다음 행렬의 특잇값 분해를 시작합니다. 차원 = 3\n",
            "[[1 0 0 0]\n",
            " [3 0 0 2]\n",
            " [2 0 3 0]\n",
            " [1 0 0 0]\n",
            " [0 1 0 0]]\n",
            "-------------------------------------\n",
            "왼쪽 직교행렬은 다음과 같습니다. \n",
            "[[ 0.1864079 -0.0965148  0.       ]\n",
            " [ 0.695897  -0.6586243 -0.       ]\n",
            " [ 0.6680057  0.7399891  0.       ]\n",
            " [ 0.1864079 -0.0965148  0.       ]\n",
            " [ 0.        -0.         1.       ]]\n",
            "\n",
            "중앙의 대각행렬은 다음과 같습니다.\n",
            "[[4.5129507 0.        0.       ]\n",
            " [0.        2.6717064 0.       ]\n",
            " [0.        0.        1.       ]]\n",
            "\n",
            "오른쪽의 직교행렬은 다음과 같습니다.\n",
            "[[ 0.8412496  0.         0.4440591  0.3084   ]\n",
            " [-0.2578593 -0.         0.8309174 -0.4930364]\n",
            " [-0.         1.         0.        -0.       ]]\n",
            "-------------------------------------\n"
          ],
          "name": "stdout"
        }
      ]
    },
    {
      "cell_type": "markdown",
      "metadata": {
        "id": "KSphz8L02pn-",
        "colab_type": "text"
      },
      "source": [
        "SVD를 통해서 A = U S V 로 표현될 때 A가 대부분의 성분이 0인 희소행렬이라면 U는 대부분의 성분이 0이 아닌 밀집벡터행렬로 표현이 됩니다.\n",
        "통계기반 자연어처리에서는 U의 각 행을 단어의 분산을 표현하는 벡터로 이용합니다."
      ]
    },
    {
      "cell_type": "code",
      "metadata": {
        "id": "5rnqCVcw3BSM",
        "colab_type": "code",
        "colab": {}
      },
      "source": [
        ""
      ],
      "execution_count": 0,
      "outputs": []
    }
  ]
}