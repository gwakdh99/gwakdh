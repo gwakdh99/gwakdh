{
  "nbformat": 4,
  "nbformat_minor": 0,
  "metadata": {
    "colab": {
      "name": "01. 통계기반 자연어 분석 기법",
      "provenance": [],
      "collapsed_sections": [],
      "include_colab_link": true
    },
    "kernelspec": {
      "name": "python3",
      "display_name": "Python 3"
    }
  },
  "cells": [
    {
      "cell_type": "markdown",
      "metadata": {
        "id": "view-in-github",
        "colab_type": "text"
      },
      "source": [
        "<a href=\"https://colab.research.google.com/github/gwakdh99/gwakdh/blob/master/01_%ED%86%B5%EA%B3%84%EA%B8%B0%EB%B0%98_%EC%9E%90%EC%97%B0%EC%96%B4_%EB%B6%84%EC%84%9D_%EA%B8%B0%EB%B2%95.ipynb\" target=\"_parent\"><img src=\"https://colab.research.google.com/assets/colab-badge.svg\" alt=\"Open In Colab\"/></a>"
      ]
    },
    {
      "cell_type": "markdown",
      "metadata": {
        "id": "KRtdlhlqXyIp",
        "colab_type": "text"
      },
      "source": [
        "\n",
        "## 형태소 분석 라이브러리 설치 및 호출"
      ]
    },
    {
      "cell_type": "markdown",
      "metadata": {
        "id": "yPTXB2v0b-H2",
        "colab_type": "text"
      },
      "source": [
        "### pip, konlpy, nlpy 설치"
      ]
    },
    {
      "cell_type": "code",
      "metadata": {
        "id": "YqxXjOT-Rn3F",
        "colab_type": "code",
        "outputId": "04a0ab71-69dd-453c-a492-2720e2bc6701",
        "colab": {
          "base_uri": "https://localhost:8080/",
          "height": 36
        }
      },
      "source": [
        "# pip 업그레이드\n",
        "!pip install --upgrade pip"
      ],
      "execution_count": 2,
      "outputs": [
        {
          "output_type": "stream",
          "text": [
            "Requirement already up-to-date: pip in /usr/local/lib/python3.6/dist-packages (19.2.3)\n"
          ],
          "name": "stdout"
        }
      ]
    },
    {
      "cell_type": "code",
      "metadata": {
        "id": "iAMZDvXeWy1A",
        "colab_type": "code",
        "colab": {}
      },
      "source": [
        "# 한글형태소 분석기 konlpy 설치\n",
        "!pip3 install konlpy"
      ],
      "execution_count": 0,
      "outputs": []
    },
    {
      "cell_type": "code",
      "metadata": {
        "id": "R8pDK9jlZtjY",
        "colab_type": "code",
        "colab": {}
      },
      "source": [
        "# 형태소분석기 nlpy 설치\n",
        "!pip3 install nlpy"
      ],
      "execution_count": 0,
      "outputs": []
    },
    {
      "cell_type": "markdown",
      "metadata": {
        "id": "XceIm6L7cGhX",
        "colab_type": "text"
      },
      "source": [
        "### 구글드라이브 연동 설정"
      ]
    },
    {
      "cell_type": "code",
      "metadata": {
        "id": "QeqMlAfZUavZ",
        "colab_type": "code",
        "outputId": "06ae05dc-4b54-42e7-d031-828e2914d109",
        "colab": {
          "base_uri": "https://localhost:8080/",
          "height": 130
        }
      },
      "source": [
        "# 구글드라이브와 연동 설정\n",
        "from google.colab import drive\n",
        "\n",
        "drive.mount('/content/drive/')"
      ],
      "execution_count": 3,
      "outputs": [
        {
          "output_type": "stream",
          "text": [
            "Go to this URL in a browser: https://accounts.google.com/o/oauth2/auth?client_id=947318989803-6bn6qk8qdgf4n4g3pfee6491hc0brc4i.apps.googleusercontent.com&redirect_uri=urn%3Aietf%3Awg%3Aoauth%3A2.0%3Aoob&scope=email%20https%3A%2F%2Fwww.googleapis.com%2Fauth%2Fdocs.test%20https%3A%2F%2Fwww.googleapis.com%2Fauth%2Fdrive%20https%3A%2F%2Fwww.googleapis.com%2Fauth%2Fdrive.photos.readonly%20https%3A%2F%2Fwww.googleapis.com%2Fauth%2Fpeopleapi.readonly&response_type=code\n",
            "\n",
            "Enter your authorization code:\n",
            "··········\n",
            "Mounted at /content/drive/\n"
          ],
          "name": "stdout"
        }
      ]
    },
    {
      "cell_type": "code",
      "metadata": {
        "id": "DoVhytDKaojB",
        "colab_type": "code",
        "outputId": "a9275601-e82e-4c76-f134-d50973af5fa6",
        "colab": {
          "base_uri": "https://localhost:8080/",
          "height": 36
        }
      },
      "source": [
        " #구글드라이브와 Colab이 잘 연동 되었는지 확인한다.\n",
        "!ls '/content/drive/'"
      ],
      "execution_count": 4,
      "outputs": [
        {
          "output_type": "stream",
          "text": [
            "'My Drive'\n"
          ],
          "name": "stdout"
        }
      ]
    },
    {
      "cell_type": "markdown",
      "metadata": {
        "id": "NNGCNEQ4cPZg",
        "colab_type": "text"
      },
      "source": [
        "### numpy, sklearn 호출"
      ]
    },
    {
      "cell_type": "code",
      "metadata": {
        "id": "NUjkoJmReRCz",
        "colab_type": "code",
        "colab": {}
      },
      "source": [
        "#넘파이 호출\n",
        "import numpy as np\n",
        "# 고속 SVD를 위한 sklearn 모듈 호출\n",
        "from sklearn.utils.extmath import randomized_svd"
      ],
      "execution_count": 0,
      "outputs": []
    },
    {
      "cell_type": "markdown",
      "metadata": {
        "id": "mbvgW8M3QA6L",
        "colab_type": "text"
      },
      "source": [
        "## 통계기반 분석을 위한 전처리\n",
        "$ \\rm preprocess(text) =$  (corpus,  word_to_id,  id_to_word)\n",
        "\n",
        "\n",
        "\n"
      ]
    },
    {
      "cell_type": "markdown",
      "metadata": {
        "id": "8qiFgSaFascY",
        "colab_type": "text"
      },
      "source": [
        "통계 기반 기법을 살펴보기 위해서 특별한 말뭉치(corpus)를 이용할 것입니다. \n",
        "펜 트리뱅크(Penn Treebank)(PTB dataset)을 이용하겠습니다. 이 PTB 말뭉치는 텍스트 파일로 제공되며 회소한 단어를 \"<unk>\"라는 특수문자로, 구체적인 숫자를 \"N\"으로 치환되어 있습니다.총 용량은 5MB입니다."
      ]
    },
    {
      "cell_type": "code",
      "metadata": {
        "id": "wWRY9crYqZbv",
        "colab_type": "code",
        "colab": {}
      },
      "source": [
        "# 구글드라이브에 있는 ptb_train.txt 파일을 불러와 read() 메소드로 읽어준다.\n",
        "f = open(\"/content/drive/My Drive/Colab Notebooks/ptb_train.txt\", 'r')\n",
        "text = f.read()"
      ],
      "execution_count": 0,
      "outputs": []
    },
    {
      "cell_type": "code",
      "metadata": {
        "id": "gS8hDmG7gg9N",
        "colab_type": "code",
        "colab": {}
      },
      "source": [
        "# 텍스트 전처리 함수를 설정한다.\n",
        "def preprocess(text):\n",
        "    \n",
        "  # 대용량 텍스트를 공백을 기준으로 분할한다.\n",
        "    text = text.lower()\n",
        "    text = text.replace('.',' .')\n",
        "    words = text.split(' ')\n",
        "    print(words)\n",
        "  # word에 id를 부여하자. \n",
        "    word_to_id = { }\n",
        "    id_to_word = { }\n",
        "    for word in words:\n",
        "        if word not in word_to_id:\n",
        "            new_id = len(word_to_id)\n",
        "            id_to_word[new_id] = word\n",
        "            word_to_id[word] = new_id\n",
        "\n",
        "  # word에 부여된 id를 이용해서 행렬(배열, array)을 생성하자. \n",
        "    corpus = [word_to_id[w] for w in words]\n",
        "    return corpus, word_to_id, id_to_word"
      ],
      "execution_count": 0,
      "outputs": []
    },
    {
      "cell_type": "code",
      "metadata": {
        "id": "GDub00rJ841A",
        "colab_type": "code",
        "outputId": "3d822406-8caf-43fe-9c50-3b59eb1670dc",
        "colab": {
          "base_uri": "https://localhost:8080/",
          "height": 203
        }
      },
      "source": [
        "corpus, word_to_id, id_to_word = preprocess(text)"
      ],
      "execution_count": 8,
      "outputs": [
        {
          "output_type": "stream",
          "text": [
            "IOPub data rate exceeded.\n",
            "The notebook server will temporarily stop sending output\n",
            "to the client in order to avoid crashing it.\n",
            "To change this limit, set the config variable\n",
            "`--NotebookApp.iopub_data_rate_limit`.\n",
            "\n",
            "Current values:\n",
            "NotebookApp.iopub_data_rate_limit=1000000.0 (bytes/sec)\n",
            "NotebookApp.rate_limit_window=3.0 (secs)\n",
            "\n"
          ],
          "name": "stderr"
        }
      ]
    },
    {
      "cell_type": "code",
      "metadata": {
        "id": "_zWu5v1V6npX",
        "colab_type": "code",
        "outputId": "80c97eea-967b-4d93-96f6-6a478898b79a",
        "colab": {
          "base_uri": "https://localhost:8080/",
          "height": 36
        }
      },
      "source": [
        "len(corpus)"
      ],
      "execution_count": 9,
      "outputs": [
        {
          "output_type": "execute_result",
          "data": {
            "text/plain": [
              "946313"
            ]
          },
          "metadata": {
            "tags": []
          },
          "execution_count": 9
        }
      ]
    },
    {
      "cell_type": "markdown",
      "metadata": {
        "id": "7dG4pmONq5Np",
        "colab_type": "text"
      },
      "source": [
        "## 단어의 분산 표현 , 분포가설(Distributional hypothesis)"
      ]
    },
    {
      "cell_type": "markdown",
      "metadata": {
        "id": "W4AkZVvmr3vN",
        "colab_type": "text"
      },
      "source": [
        "색은 RGB 컬러로 모두 표현 가능하다. 다시 말해 색은 Red, Green, Blue가 어떤 비율로 섞여 있는지를 3차원 벡터로 표현할 수 있다. <br>\n",
        "색을 벡터로 표현하듯이 '단어'도 벡터로 표현할 수 있을까? '단어의 의미'를 어떻게 벡터로 표현할 수 있을까? \n",
        "\n",
        "\n",
        "> **분포 가설 : 단어의 의미는 주변 단어에 의해 형성된다**\n",
        "\n"
      ]
    },
    {
      "cell_type": "markdown",
      "metadata": {
        "id": "ao3LD6iPtHQV",
        "colab_type": "text"
      },
      "source": [
        "## 동시발생 행렬(Co-occurrence Matrix) 구하기\n",
        "create_co_matrix(corpus, vocab_size, window_size = 1) = co_matrix"
      ]
    },
    {
      "cell_type": "code",
      "metadata": {
        "id": "ViIpbbZHtX5H",
        "colab_type": "code",
        "colab": {}
      },
      "source": [
        "def create_co_matrix(corpus, vocab_size, window_size = 2) : # window_size는 2로 기본 설정되어 있다. \n",
        "    corpus_size = len(corpus)\n",
        "    co_matrix = np.zeros((vocab_size, vocab_size), dtype = np.int32 )  # 영행렬을 먼저 생성한다.\n",
        "    \n",
        "    for idx, word_id in enumerate(corpus) :     # enumerate 함수는 corpus 리스트의 원소의 순서와 값을 전달하는 기능을 한다. \n",
        "        for i in range(1, window_size + 1) :\n",
        "            left_idx = idx - i\n",
        "            right_idx = idx + i\n",
        "\n",
        "            if left_idx >= 0 :\n",
        "                left_word_id = corpus [left_idx]\n",
        "                co_matrix[word_id, left_word_id] += 1\n",
        "\n",
        "            if right_idx < corpus_size : \n",
        "                right_word_id = corpus [right_idx]\n",
        "                co_matrix[word_id, right_word_id] += 1\n",
        "    return co_matrix"
      ],
      "execution_count": 0,
      "outputs": []
    },
    {
      "cell_type": "code",
      "metadata": {
        "id": "Cm5ZgCDjvlOg",
        "colab_type": "code",
        "outputId": "679eff7e-b55c-4f24-a179-1520b1650ef5",
        "colab": {
          "base_uri": "https://localhost:8080/",
          "height": 36
        }
      },
      "source": [
        "import time\n",
        "start = time.time()\n",
        "C = create_co_matrix(corpus, len(id_to_word))\n",
        "print(\"코드 실행 시간은 %s초 입니다.\" %(time.time() - start) )   # 약 8초의 시간이 걸리네요. "
      ],
      "execution_count": 11,
      "outputs": [
        {
          "output_type": "stream",
          "text": [
            "코드 실행 시간은 9.417446613311768초 입니다.\n"
          ],
          "name": "stdout"
        }
      ]
    },
    {
      "cell_type": "code",
      "metadata": {
        "id": "s9AXIvmcd8Ls",
        "colab_type": "code",
        "outputId": "6691e4a6-309a-4805-c07c-be8fee84ba7b",
        "colab": {
          "base_uri": "https://localhost:8080/",
          "height": 147
        }
      },
      "source": [
        "C"
      ],
      "execution_count": 24,
      "outputs": [
        {
          "output_type": "execute_result",
          "data": {
            "text/plain": [
              "array([[0, 1, 1, ..., 0, 0, 0],\n",
              "       [1, 0, 1, ..., 0, 0, 0],\n",
              "       [1, 1, 0, ..., 0, 0, 0],\n",
              "       ...,\n",
              "       [0, 0, 0, ..., 0, 0, 0],\n",
              "       [0, 0, 0, ..., 0, 0, 0],\n",
              "       [0, 0, 0, ..., 0, 0, 0]], dtype=int32)"
            ]
          },
          "metadata": {
            "tags": []
          },
          "execution_count": 24
        }
      ]
    },
    {
      "cell_type": "markdown",
      "metadata": {
        "id": "ManNN16TxrFi",
        "colab_type": "text"
      },
      "source": [
        "## 코사인 유사도(Cosine Similarity)\n",
        "\n",
        "cos_similarity(x, y, eps = 1e-8)\n",
        "</br> \n",
        "most_similar(query, word_to_id, id_to_word, word_matrix, top = 5)"
      ]
    },
    {
      "cell_type": "markdown",
      "metadata": {
        "id": "jjEPoI5uy5VL",
        "colab_type": "text"
      },
      "source": [
        "벡터의 유사도를 측정하는 방법은 다양합니다. 단어 벡터의 유사도를 나타낼 때는 다음의 코사인 유사도를 자주 이용합니다.\n",
        "<br/>  \n",
        "$$ \n",
        "\\rm cos\\_similarity(x, y) = \\rm \\frac{x\\cdot y}{\\vert{x}\\vert \\vert{y}\\vert} = \\frac {x_1y_1+ \\cdots+x_ny_n } {\\sqrt{x_1^2+\\cdots+x_n^2}\\sqrt{y_1^2+\\cdots+y_n^2}}\n",
        "$$"
      ]
    },
    {
      "cell_type": "code",
      "metadata": {
        "id": "lQ9HFTsuxypZ",
        "colab_type": "code",
        "colab": {}
      },
      "source": [
        "def cos_similarity(x, y, eps = 1e-8) : \n",
        "\n",
        "    nx = x / np.sqrt(np.sum(x**2) + eps)\n",
        "    ny = y / np.sqrt(np.sum(y**2) + eps)\n",
        "    return np.dot(nx, ny)"
      ],
      "execution_count": 0,
      "outputs": []
    },
    {
      "cell_type": "markdown",
      "metadata": {
        "id": "qI2AEIdAACic",
        "colab_type": "text"
      },
      "source": [
        "### most_similarity를 계산해보자."
      ]
    },
    {
      "cell_type": "code",
      "metadata": {
        "id": "-0VfgfBIAKJa",
        "colab_type": "code",
        "colab": {}
      },
      "source": [
        "def most_similar(query, word_to_id, id_to_word, word_matrix, top = 5):\n",
        "    # 검색어를 꺼낸다. \n",
        "    if query not in word_to_id:\n",
        "        print('%s 를 찾을 수 없습니다.' % query)\n",
        "        return\n",
        "        \n",
        "    print('[query] : ', query)\n",
        "    query_id = word_to_id[query]\n",
        "    query_vec = word_matrix[query_id]\n",
        "    \n",
        "    # 코사인 유사도 계산\n",
        "    vocab_size = len(id_to_word)\n",
        "    similarity = np.zeros(vocab_size)\n",
        "    for i in range(vocab_size) : \n",
        "        similarity[i] = cos_similarity(word_matrix[i], query_vec)\n",
        "    \n",
        "    # 코사인 유사도를 기준으로 내림차순으로 출력\n",
        "    count = 0\n",
        "    for i in (-1*similarity).argsort(): \n",
        "        if id_to_word[i] == query : \n",
        "            continue\n",
        "        print (' %s : %s ' %(id_to_word[i], similarity[i]))\n",
        "        \n",
        "        count += 1 \n",
        "        if count >= top : \n",
        "            return"
      ],
      "execution_count": 0,
      "outputs": []
    },
    {
      "cell_type": "code",
      "metadata": {
        "id": "H7o_LlO2fjvX",
        "colab_type": "code",
        "colab": {
          "base_uri": "https://localhost:8080/",
          "height": 36
        },
        "outputId": "479cf6bd-b8ad-43df-f592-fc882851b4c5"
      },
      "source": [
        " cos_similarity(C[word_to_id[\"the\"]], C[word_to_id[\"car\"]])"
      ],
      "execution_count": 18,
      "outputs": [
        {
          "output_type": "execute_result",
          "data": {
            "text/plain": [
              "0.641283895830788"
            ]
          },
          "metadata": {
            "tags": []
          },
          "execution_count": 18
        }
      ]
    },
    {
      "cell_type": "code",
      "metadata": {
        "id": "eTiWFEepDjNM",
        "colab_type": "code",
        "outputId": "24e4767c-dfe9-4657-b28d-45ec6a8f0618",
        "colab": {
          "base_uri": "https://localhost:8080/",
          "height": 128
        }
      },
      "source": [
        "most_similar('korea', word_to_id, id_to_word, C, top = 5)"
      ],
      "execution_count": 19,
      "outputs": [
        {
          "output_type": "stream",
          "text": [
            "[query] :  korea\n",
            " carolina : 0.9094060136328884 \n",
            " africa : 0.8992616581545659 \n",
            " gardens : 0.8185984007337492 \n",
            " african : 0.7864616290025496 \n",
            " korean : 0.7585169775794639 \n"
          ],
          "name": "stdout"
        }
      ]
    },
    {
      "cell_type": "code",
      "metadata": {
        "id": "ZMrRx9baHZ9Q",
        "colab_type": "code",
        "outputId": "838a058f-de72-40fa-d92d-708b70eacd60",
        "colab": {
          "base_uri": "https://localhost:8080/",
          "height": 128
        }
      },
      "source": [
        "most_similar('happy', word_to_id, id_to_word, C, top = 5)"
      ],
      "execution_count": 20,
      "outputs": [
        {
          "output_type": "stream",
          "text": [
            "[query] :  happy\n",
            " sure : 0.6774443817612392 \n",
            " need : 0.6632733796166624 \n",
            " hope : 0.6617353522854461 \n",
            " not : 0.6591013536415403 \n",
            " thought : 0.6558402278521558 \n"
          ],
          "name": "stdout"
        }
      ]
    },
    {
      "cell_type": "code",
      "metadata": {
        "id": "FEHSrBLmG1Or",
        "colab_type": "code",
        "outputId": "552ee37e-77ef-447c-ea30-651aaa278386",
        "colab": {
          "base_uri": "https://localhost:8080/",
          "height": 128
        }
      },
      "source": [
        "most_similar('she', word_to_id, id_to_word, C, top = 5)"
      ],
      "execution_count": 21,
      "outputs": [
        {
          "output_type": "stream",
          "text": [
            "[query] :  she\n",
            " he : 0.9435928089807651 \n",
            " i : 0.860179331917126 \n",
            " nobody : 0.8576518710081747 \n",
            " but : 0.8572765160046975 \n",
            " it : 0.8558084183903918 \n"
          ],
          "name": "stdout"
        }
      ]
    },
    {
      "cell_type": "markdown",
      "metadata": {
        "id": "iHlDFqusElLc",
        "colab_type": "text"
      },
      "source": [
        "## 통계 기반 기법 개선하기, PPMI\n",
        "ppmi(C, verbose = False, eps = 1e-8)"
      ]
    },
    {
      "cell_type": "markdown",
      "metadata": {
        "id": "ucJn6NMdr2Rp",
        "colab_type": "text"
      },
      "source": [
        "\n",
        "PMI는 확률변수 x, y에 대하여 다음 식으로 정의됩니다.\n",
        "</br>  \n",
        "$$ \\rm PMI(\\it x, y \\rm) = \\log_2 \\frac{P(\\it x,y \\rm)}{P(\\it x)\\rm P(\\it y \\rm)}$$\n",
        "</br>  \n",
        "$ P(x) $는 $x$가 일어날 확률, $ P(x,y) $는 $x, y$가 동시에 일어날 확률을 뜻합니다. 이 PMI 값이 높을수록 관련성이 높다는 의미입니다. \n",
        "\n",
        "</br>  \n",
        "$$ \\rm PMI(\\it x, y \\rm) = \\log_2 \\frac{P(\\it x,y \\rm)}{P(\\it x)\\rm P(\\it y \\rm)}=\\log_2 \\frac{\\frac{C(x,y)}{N}}{\\frac{C(x)}{N}\\frac{C(y)}{N}}\n",
        "=\\log_2 \\frac{C(x,y)\\cdot N}{C(x)C(y)}$$\n",
        "</br>  \n",
        "\n",
        "위 식에 따라 동시 발생행렬로부터 PMI를 구할 수 있습니다. \n",
        "</br>\n",
        "예를들어 \"the\"와 \"car\"와 \"drive\"가 각각 1000번, 20번, 10번 등장했다고 해보죠. </br>\n",
        "그리고 \"the\"와 \"car\"의 동시발생 수는 10회, \"car\"와 \"drive\"의 동시발생 수는 5회라고 가정합시다. \n",
        "</br>\n",
        "이 조건이라면, 동시발생횟수의 관점에서는 \"car\"는 \"drive\"보다 \"the\"와 관련이 깊다고 나옵니다. 그렇다면 PMI관점에서는 어떨까요? "
      ]
    },
    {
      "cell_type": "code",
      "metadata": {
        "id": "I2wXscCZEtoN",
        "colab_type": "code",
        "colab": {}
      },
      "source": [
        "def ppmi(C, verbose = False, eps = 1e-8): #verbose = True 이면, 실행과정을 실시간으로 체킹하면서 진행된다.\n",
        "    M = np.zeros_like(C, dtype = np.float32)\n",
        "    N = np.sum(C)           # 행렬 C에 있는 모든 성분의 합을 계산한다. \n",
        "    S = np.sum(C, axis = 0) # 각 열의 합을 행렬의 열의 성분으로 하는 행렬을 만든다.\n",
        "    total = C.shape[0] * C.shape[1]\n",
        "    cnt = 0 \n",
        "\n",
        "    for i in range(C.shape[0]) : \n",
        "        for j in range(C.shape[1]) :\n",
        "            pmi = np.log2(C[i, j] * 2 * N / (S[j]  * S[i])+ eps)   # 이 수식은 과연 타당한가? window_size가 변해도 불변한가?\n",
        "            M[i, j] = max(0, pmi)\n",
        "\n",
        "            # 코드가 작동하는 과정을 알려주는 코드를 작성해봅시다. \n",
        "            if verbose : \n",
        "                cnt += 1\n",
        "                if cnt % (total // 100) == 0:\n",
        "                    print('%.1f%% 완료' % (100*cnt/total)) \n",
        "    return M"
      ],
      "execution_count": 0,
      "outputs": []
    },
    {
      "cell_type": "code",
      "metadata": {
        "id": "FJ674ZOsGlMv",
        "colab_type": "code",
        "outputId": "674cfd9e-2b28-449a-aaf7-d0c1a62a712b",
        "colab": {
          "base_uri": "https://localhost:8080/",
          "height": 1000
        }
      },
      "source": [
        "## 엄청나게 오래 걸리는 군요.....약 462초가 걸립니다. (약 8분 정도)\n",
        "import time\n",
        "start = time.time()\n",
        "W = ppmi(C, True) \n",
        "print(\"time :\", time.time() - start)"
      ],
      "execution_count": 23,
      "outputs": [
        {
          "output_type": "stream",
          "text": [
            "1.0% 완료\n",
            "2.0% 완료\n",
            "3.0% 완료\n",
            "4.0% 완료\n",
            "5.0% 완료\n",
            "6.0% 완료\n",
            "7.0% 완료\n",
            "8.0% 완료\n",
            "9.0% 완료\n",
            "10.0% 완료\n",
            "11.0% 완료\n",
            "12.0% 완료\n",
            "13.0% 완료\n",
            "14.0% 완료\n",
            "15.0% 완료\n",
            "16.0% 완료\n",
            "17.0% 완료\n",
            "18.0% 완료\n",
            "19.0% 완료\n",
            "20.0% 완료\n",
            "21.0% 완료\n",
            "22.0% 완료\n",
            "23.0% 완료\n",
            "24.0% 완료\n",
            "25.0% 완료\n",
            "26.0% 완료\n",
            "27.0% 완료\n",
            "28.0% 완료\n",
            "29.0% 완료\n",
            "30.0% 완료\n",
            "31.0% 완료\n",
            "32.0% 완료\n",
            "33.0% 완료\n",
            "34.0% 완료\n",
            "35.0% 완료\n",
            "36.0% 완료\n",
            "37.0% 완료\n",
            "38.0% 완료\n",
            "39.0% 완료\n",
            "40.0% 완료\n",
            "41.0% 완료\n",
            "42.0% 완료\n",
            "43.0% 완료\n",
            "44.0% 완료\n",
            "45.0% 완료\n",
            "46.0% 완료\n",
            "47.0% 완료\n",
            "48.0% 완료\n",
            "49.0% 완료\n",
            "50.0% 완료\n",
            "51.0% 완료\n",
            "52.0% 완료\n",
            "53.0% 완료\n",
            "54.0% 완료\n",
            "55.0% 완료\n",
            "56.0% 완료\n",
            "57.0% 완료\n",
            "58.0% 완료\n",
            "59.0% 완료\n",
            "60.0% 완료\n",
            "61.0% 완료\n",
            "62.0% 완료\n",
            "63.0% 완료\n",
            "64.0% 완료\n",
            "65.0% 완료\n",
            "66.0% 완료\n",
            "67.0% 완료\n",
            "68.0% 완료\n",
            "69.0% 완료\n",
            "70.0% 완료\n",
            "71.0% 완료\n",
            "72.0% 완료\n",
            "73.0% 완료\n",
            "74.0% 완료\n",
            "75.0% 완료\n",
            "76.0% 완료\n",
            "77.0% 완료\n",
            "78.0% 완료\n",
            "79.0% 완료\n",
            "80.0% 완료\n",
            "81.0% 완료\n",
            "82.0% 완료\n",
            "83.0% 완료\n",
            "84.0% 완료\n",
            "85.0% 완료\n",
            "86.0% 완료\n",
            "87.0% 완료\n",
            "88.0% 완료\n",
            "89.0% 완료\n",
            "90.0% 완료\n",
            "91.0% 완료\n",
            "92.0% 완료\n",
            "93.0% 완료\n",
            "94.0% 완료\n",
            "95.0% 완료\n",
            "96.0% 완료\n",
            "97.0% 완료\n",
            "98.0% 완료\n",
            "99.0% 완료\n",
            "100.0% 완료\n",
            "time : 463.1269793510437\n"
          ],
          "name": "stdout"
        }
      ]
    },
    {
      "cell_type": "code",
      "metadata": {
        "id": "qjaa_VCt0Ben",
        "colab_type": "code",
        "outputId": "4ace6db9-2976-4966-bbb5-09f7d18a2712",
        "colab": {
          "base_uri": "https://localhost:8080/",
          "height": 296
        }
      },
      "source": [
        "most_similar('korea', word_to_id, id_to_word, W, top = 5)\n",
        "print()\n",
        "print(\"비교해 봅시다. 다음은 동시발생 행렬에 의한 유사도 순위입니다.\")\n",
        "print(most_similar('korea', word_to_id, id_to_word, C, top = 5))"
      ],
      "execution_count": 25,
      "outputs": [
        {
          "output_type": "stream",
          "text": [
            "[query] :  korea\n",
            " south : 0.18941046297550201 \n",
            " panels : 0.1284870207309723 \n",
            " korean : 0.1282111257314682 \n",
            " kong : 0.12692923843860626 \n",
            " provinces : 0.12193956971168518 \n",
            "\n",
            "비교해 봅시다. 다음은 동시발생 행렬에 의한 유사도 순위입니다.\n",
            "[query] :  korea\n",
            " carolina : 0.9094060136328884 \n",
            " africa : 0.8992616581545659 \n",
            " gardens : 0.8185984007337492 \n",
            " african : 0.7864616290025496 \n",
            " korean : 0.7585169775794639 \n",
            "None\n"
          ],
          "name": "stdout"
        }
      ]
    },
    {
      "cell_type": "code",
      "metadata": {
        "id": "SZ0HTbtpl2vv",
        "colab_type": "code",
        "outputId": "ef38ad2a-2640-4c3f-ed73-d614f45241d1",
        "colab": {
          "base_uri": "https://localhost:8080/",
          "height": 296
        }
      },
      "source": [
        "most_similar('happy', word_to_id, id_to_word, W, top = 5)\n",
        "print()\n",
        "print(\"비교해 봅시다. 다음은 동시발생 행렬에 의한 유사도 순위입니다.\")\n",
        "print(most_similar('happy', word_to_id, id_to_word, C, top = 5))"
      ],
      "execution_count": 26,
      "outputs": [
        {
          "output_type": "stream",
          "text": [
            "[query] :  happy\n",
            " ok : 0.19403694570064545 \n",
            " pleased : 0.18708181381225586 \n",
            " lucky : 0.18692053854465485 \n",
            " surprised : 0.1794547438621521 \n",
            " glad : 0.17548418045043945 \n",
            "\n",
            "비교해 봅시다. 다음은 동시발생 행렬에 의한 유사도 순위입니다.\n",
            "[query] :  happy\n",
            " sure : 0.6774443817612392 \n",
            " need : 0.6632733796166624 \n",
            " hope : 0.6617353522854461 \n",
            " not : 0.6591013536415403 \n",
            " thought : 0.6558402278521558 \n",
            "None\n"
          ],
          "name": "stdout"
        }
      ]
    },
    {
      "cell_type": "code",
      "metadata": {
        "id": "5uTaaQFyG6CL",
        "colab_type": "code",
        "outputId": "b8bbd08f-810b-46fd-99d7-7a46df7f37ba",
        "colab": {
          "base_uri": "https://localhost:8080/",
          "height": 296
        }
      },
      "source": [
        "most_similar('car', word_to_id, id_to_word, W, top = 5)\n",
        "print()\n",
        "print(\"비교해 봅시다. 다음은 동시발생 행렬에 의한 유사도 순위입니다.\")\n",
        "print(most_similar('car', word_to_id, id_to_word, C, top = 5))"
      ],
      "execution_count": 28,
      "outputs": [
        {
          "output_type": "stream",
          "text": [
            "[query] :  car\n",
            " auto : 0.18711645901203156 \n",
            " cars : 0.16278202831745148 \n",
            " rental : 0.13010603189468384 \n",
            " domestic : 0.11845936626195908 \n",
            " chevrolet : 0.11274931579828262 \n",
            "\n",
            "비교해 봅시다. 다음은 동시발생 행렬에 의한 유사도 순위입니다.\n",
            "[query] :  car\n",
            " network : 0.8740191057446254 \n",
            " job : 0.8724513724339986 \n",
            " strategy : 0.8661775022309377 \n",
            " group : 0.8632326434651192 \n",
            " computer : 0.8620327743208449 \n",
            "None\n"
          ],
          "name": "stdout"
        }
      ]
    },
    {
      "cell_type": "markdown",
      "metadata": {
        "id": "5tHtHHpmKhLz",
        "colab_type": "text"
      },
      "source": [
        "Co_occurence matrix를 PPMI matrix로 변환했는데도 크게 향상된 것 같지는 않군요. 사실 PPMI matrix에도 몇가지 보완해야 할 점이 있습니다.\n",
        " 행렬에 0을 너무 많이 포함하고 있습니다. 이는 코사인유사도로 검증을 할 때 좋지 못한 점입니다. 이렇게 원소의 대부분이 0인 행렬을 '희소행렬(Sparse matrix)'라고 합니다. </br> \n",
        "'희소행렬(Sparse matrix)'을 원소의 대부분이 0이 아닌 '밀집벡터'로 표현하는 것이 우리의 최종 목표입니다."
      ]
    },
    {
      "cell_type": "markdown",
      "metadata": {
        "id": "NGZ4ZYGMkpoa",
        "colab_type": "text"
      },
      "source": [
        "## 고속 SVD를 이용해서 PPMI의 차원을 축소하기\n",
        "U, Sigma, VT = randomized_svd(행렬, 차원)\n",
        "\n",
        "앞의 과정에서 PPMI 행렬로도 큰 개선의 효과를 보지 못했습니다. 이는 PPMI 행렬의 대부분의 성분이 0 이기 때문에 발생하는 입니다. 여기서는 SVD에 의하여 PPMI 행렬을 대부분의 성분이 0이 없는 행렬로 만들면서 행렬의 차원을 축소하는 방법을 시도하려고 합니다. \n",
        "\n",
        "단어의 의미를 포함하고 있는 행렬은 U이기 때문에 이 행렬을 단어벡터의 행렬로 두기로 합니다."
      ]
    },
    {
      "cell_type": "code",
      "metadata": {
        "id": "3t1QQFVNZfCh",
        "colab_type": "code",
        "outputId": "d92e395c-0ae6-4306-a9ef-0bd30cfb7d7a",
        "colab": {
          "base_uri": "https://localhost:8080/",
          "height": 36
        }
      },
      "source": [
        "import time\n",
        "start = time.time()\n",
        "U, S, VT = randomized_svd(W, n_components = 100, n_iter = 5, random_state = None)\n",
        "print( \"time :\", time.time() - start)"
      ],
      "execution_count": 48,
      "outputs": [
        {
          "output_type": "stream",
          "text": [
            "time : 6.794035911560059\n"
          ],
          "name": "stdout"
        }
      ]
    },
    {
      "cell_type": "code",
      "metadata": {
        "id": "Tpk6mEe6c82g",
        "colab_type": "code",
        "colab": {}
      },
      "source": [
        "US = np.dot(U, np.diag(S))"
      ],
      "execution_count": 0,
      "outputs": []
    },
    {
      "cell_type": "code",
      "metadata": {
        "id": "_bIAqmQodcSS",
        "colab_type": "code",
        "outputId": "b11c9b10-d870-4399-b04d-c27cfdf4b835",
        "colab": {
          "base_uri": "https://localhost:8080/",
          "height": 1000
        }
      },
      "source": [
        "print(\"U 행렬의 형태 : \" , U.shape)\n",
        "print(np.round(U, 10))\n",
        "print()\n",
        "print(\"S 행렬의 형태 : \" , S.shape)\n",
        "print(np.round(np.diag(Sigma), 3))\n",
        "print()\n",
        "print(\"VT 행렬의 형태 : \" , VT.shape)\n",
        "print(np.round(VT, 3))\n",
        "\n",
        "print()\n",
        "print(\"PPMI 행렬인 W 행렬의 형태 : \" , W.shape)\n",
        "print(np.round(W, 3))\n",
        "\n",
        "print()\n",
        "print(\"U*S 행렬의 형태 : \" , np.dot(U, np.diag(S)).shape)\n",
        "print(np.round(np.dot(U, np.diag(S)), 3))\n",
        "\n",
        "print()\n",
        "print(\"W*V 행렬의 형태 : \" , np.dot(W, VT.T).shape)\n",
        "print(np.round(np.dot(W, np.dot(W, VT.T)), 3))"
      ],
      "execution_count": 51,
      "outputs": [
        {
          "output_type": "stream",
          "text": [
            "U 행렬의 형태 :  (9945, 100)\n",
            "[[ 1.0000000e-10 -5.7789998e-07  5.5639998e-07 ... -2.4390600e-05\n",
            "  -4.7103999e-06  3.4349399e-05]\n",
            " [ 0.0000000e+00  2.2000000e-09 -3.0000000e-10 ... -3.2472100e-05\n",
            "  -1.5593600e-05  4.3846401e-05]\n",
            " [ 0.0000000e+00 -4.0000001e-10 -2.7000000e-09 ... -4.4023400e-05\n",
            "  -1.9863999e-05  6.6485998e-05]\n",
            " ...\n",
            " [ 4.1807014e-03 -6.4211129e-03  8.0438042e-03 ...  3.7873115e-03\n",
            "  -7.4778832e-03  3.5672812e-03]\n",
            " [ 2.2456090e-03 -4.4795838e-03  9.0071950e-03 ...  2.6698033e-03\n",
            "  -1.2235908e-03  2.8866279e-04]\n",
            " [ 3.4797485e-03 -6.5582674e-03  1.0606006e-02 ...  2.9114669e-03\n",
            "  -6.6688708e-03 -3.3550407e-03]]\n",
            "\n",
            "S 행렬의 형태 :  (100,)\n",
            "[[956.464   0.      0.    ...   0.      0.      0.   ]\n",
            " [  0.    463.054   0.    ...   0.      0.      0.   ]\n",
            " [  0.      0.    336.267 ...   0.      0.      0.   ]\n",
            " ...\n",
            " [  0.      0.      0.    ... 126.706   0.      0.   ]\n",
            " [  0.      0.      0.    ...   0.    126.601   0.   ]\n",
            " [  0.      0.      0.    ...   0.      0.    126.22 ]]\n",
            "\n",
            "VT 행렬의 형태 :  (100, 9945)\n",
            "[[ 0.     0.     0.    ...  0.004  0.002  0.003]\n",
            " [-0.     0.    -0.    ...  0.006  0.004  0.007]\n",
            " [ 0.     0.     0.    ...  0.008  0.009  0.011]\n",
            " ...\n",
            " [-0.    -0.    -0.    ...  0.002  0.007  0.003]\n",
            " [-0.    -0.    -0.    ... -0.005 -0.002  0.006]\n",
            " [ 0.     0.     0.    ...  0.002  0.001 -0.009]]\n",
            "\n",
            "PPMI 행렬인 W 행렬의 형태 :  (9945, 9945)\n",
            "[[ 0.    20.267 19.852 ...  0.     0.     0.   ]\n",
            " [20.267  0.    19.267 ...  0.     0.     0.   ]\n",
            " [19.852 19.267  0.    ...  0.     0.     0.   ]\n",
            " ...\n",
            " [ 0.     0.     0.    ...  0.     0.     0.   ]\n",
            " [ 0.     0.     0.    ...  0.     0.     0.   ]\n",
            " [ 0.     0.     0.    ...  0.     0.     0.   ]]\n",
            "\n",
            "U*S 행렬의 형태 :  (9945, 100)\n",
            "[[ 0.000e+00 -0.000e+00  0.000e+00 ... -3.000e-03 -1.000e-03  4.000e-03]\n",
            " [ 0.000e+00  0.000e+00 -0.000e+00 ... -4.000e-03 -2.000e-03  6.000e-03]\n",
            " [ 0.000e+00 -0.000e+00 -0.000e+00 ... -6.000e-03 -3.000e-03  8.000e-03]\n",
            " ...\n",
            " [ 3.999e+00 -2.973e+00  2.705e+00 ...  4.790e-01 -9.450e-01  4.500e-01]\n",
            " [ 2.148e+00 -2.074e+00  3.029e+00 ...  3.380e-01 -1.550e-01  3.600e-02]\n",
            " [ 3.328e+00 -3.037e+00  3.566e+00 ...  3.680e-01 -8.430e-01 -4.230e-01]]\n",
            "\n",
            "W*V 행렬의 형태 :  (9945, 100)\n",
            "[[ 0.000000e+00 -1.000000e-03  0.000000e+00 ... -5.700000e-02\n",
            "  -3.400000e-02  9.500000e-02]\n",
            " [ 0.000000e+00 -0.000000e+00  0.000000e+00 ... -8.500000e-02\n",
            "  -5.400000e-02  1.460000e-01]\n",
            " [ 0.000000e+00 -0.000000e+00  0.000000e+00 ... -1.130000e-01\n",
            "  -7.800000e-02  2.020000e-01]\n",
            " ...\n",
            " [ 3.824611e+03  1.376804e+03  9.095360e+02 ...  4.979800e+01\n",
            "  -7.309100e+01  3.014100e+01]\n",
            " [ 2.054340e+03  9.605000e+02  1.018510e+03 ...  1.244530e+02\n",
            "  -3.534200e+01  1.510800e+01]\n",
            " [ 3.183361e+03  1.406209e+03  1.199266e+03 ...  4.422300e+01\n",
            "   9.258800e+01 -1.658430e+02]]\n"
          ],
          "name": "stdout"
        }
      ]
    },
    {
      "cell_type": "code",
      "metadata": {
        "id": "xqLc9ehXXE-C",
        "colab_type": "code",
        "outputId": "a9ac3521-93e3-4922-e590-a122e2a62d90",
        "colab": {
          "base_uri": "https://localhost:8080/",
          "height": 277
        }
      },
      "source": [
        "print(\" 다음은 U 행렬로 계산한 유사도입니다. \")\n",
        "print('the , drive 사이의 유사도는 ')\n",
        "print(cos_similarity(U[word_to_id['the']], U[word_to_id['car']]))\n",
        "print()\n",
        "print(\"car , drive 사이의 유사도는 \")\n",
        "print(cos_similarity(U[word_to_id['car']], U[word_to_id['drive']]))\n",
        "print()\n",
        "print()\n",
        "print(\" 다음은 US 행렬로 계산한 유사도입니다. \")\n",
        "print('the , drive 사이의 유사도는 ')\n",
        "print(cos_similarity(US[word_to_id['the']], US[word_to_id['car']]))\n",
        "print()\n",
        "print(\"car , drive 사이의 유사도는 \")\n",
        "print(cos_similarity(US[word_to_id['car']], US[word_to_id['drive']]))"
      ],
      "execution_count": 58,
      "outputs": [
        {
          "output_type": "stream",
          "text": [
            " 다음은 U 행렬로 계산한 유사도입니다. \n",
            "the , drive 사이의 유사도는 \n",
            "-0.034210715\n",
            "\n",
            "car , drive 사이의 유사도는 \n",
            "0.32783842\n",
            "\n",
            "\n",
            " 다음은 US 행렬로 계산한 유사도입니다. \n",
            "the , drive 사이의 유사도는 \n",
            "0.33936846\n",
            "\n",
            "car , drive 사이의 유사도는 \n",
            "0.5631735\n"
          ],
          "name": "stdout"
        }
      ]
    },
    {
      "cell_type": "code",
      "metadata": {
        "id": "4O15NW9Ai0Ek",
        "colab_type": "code",
        "colab": {
          "base_uri": "https://localhost:8080/",
          "height": 277
        },
        "outputId": "2de62640-ff5b-4b56-a76b-dc5217fe4b0c"
      },
      "source": [
        "print(\"다음은 U 행렬로 계산한 유사도입니다. \")\n",
        "print('a , man 사이의 유사도는 ')\n",
        "print(cos_similarity(U[word_to_id['a']], U[word_to_id['man']]))\n",
        "print()\n",
        "print(\"man , woman 사이의 유사도는 \")\n",
        "print(cos_similarity(U[word_to_id['man']], U[word_to_id['woman']]))\n",
        "print()\n",
        "print()\n",
        "print(\"다음은 US 행렬로 계산한 유사도입니다. \")\n",
        "print('a , man 사이의 유사도는 ')\n",
        "print(cos_similarity(US[word_to_id['a']], US[word_to_id['man']]))\n",
        "print()\n",
        "print(\"man , woman 사이의 유사도는 \")\n",
        "print(cos_similarity(US[word_to_id['man']], US[word_to_id['woman']]))"
      ],
      "execution_count": 63,
      "outputs": [
        {
          "output_type": "stream",
          "text": [
            "다음은 U 행렬로 계산한 유사도입니다. \n",
            "a , man 사이의 유사도는 \n",
            "0.074401334\n",
            "\n",
            "man , woman 사이의 유사도는 \n",
            "0.43411198\n",
            "\n",
            "\n",
            "다음은 US 행렬로 계산한 유사도입니다. \n",
            "a , man 사이의 유사도는 \n",
            "0.36367357\n",
            "\n",
            "man , woman 사이의 유사도는 \n",
            "0.69762295\n"
          ],
          "name": "stdout"
        }
      ]
    },
    {
      "cell_type": "code",
      "metadata": {
        "id": "RfY1ISdJXFKU",
        "colab_type": "code",
        "outputId": "46f578da-99a4-434b-ca1b-6c6e962c397f",
        "colab": {
          "base_uri": "https://localhost:8080/",
          "height": 611
        }
      },
      "source": [
        "most_similar('korea', word_to_id, id_to_word, US, top = 5)\n",
        "print()\n",
        "print()\n",
        "print()\n",
        "most_similar('korea', word_to_id, id_to_word, U, top = 5)\n",
        "print()\n",
        "print(\"비교해 봅시다. 다음은 PPMI 행렬에 의한 유사도 순위입니다.\")\n",
        "most_similar('korea', word_to_id, id_to_word, W, top = 5)\n",
        "print()\n",
        "print(\"비교해 봅시다. 다음은 동시발생 행렬에 의한 유사도 순위입니다.\")\n",
        "print(most_similar('korea', word_to_id, id_to_word, C, top = 5))"
      ],
      "execution_count": 54,
      "outputs": [
        {
          "output_type": "stream",
          "text": [
            "[query] :  korea\n",
            " taiwan : 0.7533437013626099 \n",
            " europe : 0.7332642078399658 \n",
            " south : 0.7153602838516235 \n",
            " india : 0.6929842829704285 \n",
            " china : 0.6923523545265198 \n",
            "\n",
            "\n",
            "\n",
            "[query] :  korea\n",
            " taiwan : 0.635428249835968 \n",
            " south : 0.6304270029067993 \n",
            " europe : 0.6040027141571045 \n",
            " japan : 0.5510867834091187 \n",
            " canada : 0.5441176295280457 \n",
            "\n",
            "비교해 봅시다. 다음은 PPMI 행렬에 의한 유사도 순위입니다.\n",
            "[query] :  korea\n",
            " south : 0.18941046297550201 \n",
            " panels : 0.1284870207309723 \n",
            " korean : 0.1282111257314682 \n",
            " kong : 0.12692923843860626 \n",
            " provinces : 0.12193956971168518 \n",
            "\n",
            "비교해 봅시다. 다음은 동시발생 행렬에 의한 유사도 순위입니다.\n",
            "[query] :  korea\n",
            " carolina : 0.9094060136328884 \n",
            " africa : 0.8992616581545659 \n",
            " gardens : 0.8185984007337492 \n",
            " african : 0.7864616290025496 \n",
            " korean : 0.7585169775794639 \n",
            "None\n"
          ],
          "name": "stdout"
        }
      ]
    },
    {
      "cell_type": "code",
      "metadata": {
        "id": "hBwt9itPXFGr",
        "colab_type": "code",
        "outputId": "a4f81d9e-adc3-4f16-86de-32f827be04cf",
        "colab": {
          "base_uri": "https://localhost:8080/",
          "height": 611
        }
      },
      "source": [
        "most_similar('car', word_to_id, id_to_word, US, top = 5)\n",
        "print()\n",
        "print()\n",
        "print()\n",
        "\n",
        "most_similar('car', word_to_id, id_to_word, U, top = 5)\n",
        "print()\n",
        "print(\"비교해 봅시다. 다음은 PPMI 행렬에 의한 유사도 순위입니다.\")\n",
        "most_similar('car', word_to_id, id_to_word, W, top = 5)\n",
        "print()\n",
        "print(\"비교해 봅시다. 다음은 동시발생 행렬에 의한 유사도 순위입니다.\")\n",
        "print(most_similar('car', word_to_id, id_to_word, C, top = 5))"
      ],
      "execution_count": 55,
      "outputs": [
        {
          "output_type": "stream",
          "text": [
            "[query] :  car\n",
            " auto : 0.7355228066444397 \n",
            " luxury : 0.6983713507652283 \n",
            " cars : 0.6808823347091675 \n",
            " truck : 0.6740310788154602 \n",
            " domestic : 0.6408664584159851 \n",
            "\n",
            "\n",
            "\n",
            "[query] :  car\n",
            " auto : 0.5921629667282104 \n",
            " luxury : 0.5740488767623901 \n",
            " cars : 0.5352737307548523 \n",
            " truck : 0.5105409622192383 \n",
            " lexus : 0.4421027898788452 \n",
            "\n",
            "비교해 봅시다. 다음은 PPMI 행렬에 의한 유사도 순위입니다.\n",
            "[query] :  car\n",
            " auto : 0.18711645901203156 \n",
            " cars : 0.16278202831745148 \n",
            " rental : 0.13010603189468384 \n",
            " domestic : 0.11845936626195908 \n",
            " chevrolet : 0.11274931579828262 \n",
            "\n",
            "비교해 봅시다. 다음은 동시발생 행렬에 의한 유사도 순위입니다.\n",
            "[query] :  car\n",
            " network : 0.8740191057446254 \n",
            " job : 0.8724513724339986 \n",
            " strategy : 0.8661775022309377 \n",
            " group : 0.8632326434651192 \n",
            " computer : 0.8620327743208449 \n",
            "None\n"
          ],
          "name": "stdout"
        }
      ]
    },
    {
      "cell_type": "code",
      "metadata": {
        "id": "zVMTbGGTXViA",
        "colab_type": "code",
        "outputId": "1b2b52a3-1c7b-43c3-b1b5-93b703d429c0",
        "colab": {
          "base_uri": "https://localhost:8080/",
          "height": 611
        }
      },
      "source": [
        "most_similar('happy', word_to_id, id_to_word, US, top = 5)\n",
        "print()\n",
        "print()\n",
        "print()\n",
        "most_similar('happy', word_to_id, id_to_word, U, top = 5)\n",
        "print()\n",
        "print(\"비교해 봅시다. 다음은 PPMI 행렬에 의한 유사도 순위입니다.\")\n",
        "most_similar('happy', word_to_id, id_to_word, W, top = 5)\n",
        "print()\n",
        "print(\"비교해 봅시다. 다음은 동시발생 행렬에 의한 유사도 순위입니다.\")\n",
        "print(most_similar('happy', word_to_id, id_to_word, C, top = 5))"
      ],
      "execution_count": 56,
      "outputs": [
        {
          "output_type": "stream",
          "text": [
            "[query] :  happy\n",
            " interested : 0.765058696269989 \n",
            " confident : 0.7429779767990112 \n",
            " aware : 0.7428470849990845 \n",
            " feeling : 0.7373619675636292 \n",
            " afraid : 0.7369123697280884 \n",
            "\n",
            "\n",
            "\n",
            "[query] :  happy\n",
            " feeling : 0.5601326823234558 \n",
            " interested : 0.5579146146774292 \n",
            " afraid : 0.5442239046096802 \n",
            " ready : 0.4918520450592041 \n",
            " convinced : 0.49076756834983826 \n",
            "\n",
            "비교해 봅시다. 다음은 PPMI 행렬에 의한 유사도 순위입니다.\n",
            "[query] :  happy\n",
            " ok : 0.19403694570064545 \n",
            " pleased : 0.18708181381225586 \n",
            " lucky : 0.18692053854465485 \n",
            " surprised : 0.1794547438621521 \n",
            " glad : 0.17548418045043945 \n",
            "\n",
            "비교해 봅시다. 다음은 동시발생 행렬에 의한 유사도 순위입니다.\n",
            "[query] :  happy\n",
            " sure : 0.6774443817612392 \n",
            " need : 0.6632733796166624 \n",
            " hope : 0.6617353522854461 \n",
            " not : 0.6591013536415403 \n",
            " thought : 0.6558402278521558 \n",
            "None\n"
          ],
          "name": "stdout"
        }
      ]
    },
    {
      "cell_type": "code",
      "metadata": {
        "id": "JmIoBYb9jRCH",
        "colab_type": "code",
        "outputId": "ee460ac7-4e84-4dec-9ff0-ddacd7ea8a9b",
        "colab": {
          "base_uri": "https://localhost:8080/",
          "height": 611
        }
      },
      "source": [
        "most_similar('intel', word_to_id, id_to_word, US, top = 5)\n",
        "print()\n",
        "print()\n",
        "print()\n",
        "\n",
        "most_similar('intel', word_to_id, id_to_word, U, top = 5)\n",
        "print()\n",
        "print(\"비교해 봅시다. 다음은 PPMI 행렬에 의한 유사도 순위입니다.\")\n",
        "most_similar('intel', word_to_id, id_to_word, W, top = 5)\n",
        "print()\n",
        "print(\"비교해 봅시다. 다음은 동시발생 행렬에 의한 유사도 순위입니다.\")\n",
        "print(most_similar('intel', word_to_id, id_to_word, C, top = 5))"
      ],
      "execution_count": 57,
      "outputs": [
        {
          "output_type": "stream",
          "text": [
            "[query] :  intel\n",
            " hewlett-packard : 0.7207717895507812 \n",
            " dell : 0.7184058427810669 \n",
            " nec : 0.701552152633667 \n",
            " sun : 0.6988478302955627 \n",
            " compaq : 0.6938881278038025 \n",
            "\n",
            "\n",
            "\n",
            "[query] :  intel\n",
            " lsi : 0.5289038419723511 \n",
            " hewlett-packard : 0.5281217098236084 \n",
            " armonk : 0.5276092886924744 \n",
            " dell : 0.5177016854286194 \n",
            " nec : 0.5142529010772705 \n",
            "\n",
            "비교해 봅시다. 다음은 PPMI 행렬에 의한 유사도 순위입니다.\n",
            "[query] :  intel\n",
            " tandy : 0.18660297989845276 \n",
            " ncr : 0.15885891020298004 \n",
            " hewlett-packard : 0.1451587975025177 \n",
            " shell : 0.14351068437099457 \n",
            " convex : 0.14042752981185913 \n",
            "\n",
            "비교해 봅시다. 다음은 동시발생 행렬에 의한 유사도 순위입니다.\n",
            "[query] :  intel\n",
            " exxon : 0.8507228218177914 \n",
            " amoco : 0.8410354286977014 \n",
            " chrysler : 0.8382270578539716 \n",
            " bankamerica : 0.8329715314930315 \n",
            " microsoft : 0.8179202900654178 \n",
            "None\n"
          ],
          "name": "stdout"
        }
      ]
    },
    {
      "cell_type": "markdown",
      "metadata": {
        "id": "coSAIzGFWYVL",
        "colab_type": "text"
      },
      "source": [
        "## 정리하기"
      ]
    },
    {
      "cell_type": "markdown",
      "metadata": {
        "id": "xrtkt59UWdiI",
        "colab_type": "text"
      },
      "source": [
        "지금까지 했던 과정을 다시 되돌려 보면 다음과 같은 순서로 진행되었다. \n",
        "1. 텍스트 파일의 전처리 : corpus, word_to_id, id_to_word 를 생성\n",
        "2. 동시발생 행렬의 생성 : 코사인유사도를 이용하여 co_matrix 를 생성\n",
        "3. PPMI 행렬의 생성 : ppmi 를 생성 \n",
        "4. PPMI 행렬을 SVD를 통해서 밀집벡터 표현을 생성 : truncated SVD 를 이용하여  word_vecs 을 생성"
      ]
    }
  ]
}