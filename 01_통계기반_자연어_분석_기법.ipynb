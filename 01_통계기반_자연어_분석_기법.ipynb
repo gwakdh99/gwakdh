{
  "nbformat": 4,
  "nbformat_minor": 0,
  "metadata": {
    "colab": {
      "name": "01. 통계기반 자연어 분석 기법",
      "provenance": [],
      "collapsed_sections": []
    },
    "kernelspec": {
      "name": "python3",
      "display_name": "Python 3"
    }
  },
  "cells": [
    {
      "cell_type": "markdown",
      "metadata": {
        "id": "KRtdlhlqXyIp",
        "colab_type": "text"
      },
      "source": [
        "\n",
        "## 형태소 분석 라이브러리 설치 및 호출"
      ]
    },
    {
      "cell_type": "markdown",
      "metadata": {
        "id": "yPTXB2v0b-H2",
        "colab_type": "text"
      },
      "source": [
        "### pip, konlpy, nlpy 설치"
      ]
    },
    {
      "cell_type": "code",
      "metadata": {
        "id": "YqxXjOT-Rn3F",
        "colab_type": "code",
        "colab": {}
      },
      "source": [
        "# pip 업그레이드\n",
        "!pip install --upgrade pip"
      ],
      "execution_count": 0,
      "outputs": []
    },
    {
      "cell_type": "code",
      "metadata": {
        "id": "iAMZDvXeWy1A",
        "colab_type": "code",
        "colab": {}
      },
      "source": [
        "# 한글형태소 분석기 konlpy 설치\n",
        "!pip3 install konlpy"
      ],
      "execution_count": 0,
      "outputs": []
    },
    {
      "cell_type": "code",
      "metadata": {
        "id": "R8pDK9jlZtjY",
        "colab_type": "code",
        "colab": {}
      },
      "source": [
        "# 형태소분석기 nlpy 설치\n",
        "!pip3 install nlpy"
      ],
      "execution_count": 0,
      "outputs": []
    },
    {
      "cell_type": "markdown",
      "metadata": {
        "id": "XceIm6L7cGhX",
        "colab_type": "text"
      },
      "source": [
        "### 구글드라이브 연동 설정"
      ]
    },
    {
      "cell_type": "code",
      "metadata": {
        "id": "QeqMlAfZUavZ",
        "colab_type": "code",
        "colab": {}
      },
      "source": [
        "# 구글드라이브와 연동 설정\n",
        "from google.colab import drive\n",
        "\n",
        "drive.mount('/content/drive/')"
      ],
      "execution_count": 0,
      "outputs": []
    },
    {
      "cell_type": "code",
      "metadata": {
        "id": "DoVhytDKaojB",
        "colab_type": "code",
        "colab": {}
      },
      "source": [
        " #구글드라이브와 Colab이 잘 연동 되었는지 확인한다.\n",
        "!ls '/content/drive/'"
      ],
      "execution_count": 0,
      "outputs": []
    },
    {
      "cell_type": "markdown",
      "metadata": {
        "id": "NNGCNEQ4cPZg",
        "colab_type": "text"
      },
      "source": [
        "### numpy, sklearn 호출"
      ]
    },
    {
      "cell_type": "code",
      "metadata": {
        "id": "NUjkoJmReRCz",
        "colab_type": "code",
        "colab": {}
      },
      "source": [
        "#넘파이 호출\n",
        "import numpy as np\n",
        "# 고속 SVD를 위한 sklearn 모듈 호출\n",
        "from sklearn.utils.extmath import randomized_svd"
      ],
      "execution_count": 0,
      "outputs": []
    },
    {
      "cell_type": "markdown",
      "metadata": {
        "id": "mbvgW8M3QA6L",
        "colab_type": "text"
      },
      "source": [
        "## 통계기반 분석을 위한 전처리\n",
        "$ \\rm preprocess(text) =$  (corpus,  word_to_id,  id_to_word)\n",
        "\n",
        "\n",
        "\n"
      ]
    },
    {
      "cell_type": "markdown",
      "metadata": {
        "id": "8qiFgSaFascY",
        "colab_type": "text"
      },
      "source": [
        "통계 기반 기법을 살펴보기 위해서 특별한 말뭉치(corpus)를 이용할 것입니다. \n",
        "펜 트리뱅크(Penn Treebank)(PTB dataset)을 이용하겠습니다. 이 PTB 말뭉치는 텍스트 파일로 제공되며 회소한 단어를 \"<unk>\"라는 특수문자로, 구체적인 숫자를 \"N\"으로 치환되어 있습니다.총 용량은 5MB입니다."
      ]
    },
    {
      "cell_type": "code",
      "metadata": {
        "id": "wWRY9crYqZbv",
        "colab_type": "code",
        "colab": {}
      },
      "source": [
        "# 구글드라이브에 있는 ptb_train.txt 파일을 불러와 read() 메소드로 읽어준다.\n",
        "f = open(\"/content/drive/My Drive/Colab Notebooks/ptb_train.txt\", 'r')\n",
        "text = f.read()"
      ],
      "execution_count": 0,
      "outputs": []
    },
    {
      "cell_type": "code",
      "metadata": {
        "id": "gS8hDmG7gg9N",
        "colab_type": "code",
        "colab": {}
      },
      "source": [
        "# 텍스트 전처리 함수를 설정한다.\n",
        "def preprocess(text):\n",
        "    \n",
        "  # 대용량 텍스트를 공백을 기준으로 분할한다.\n",
        "    text = text.lower()\n",
        "    text = text.replace('.',' .')\n",
        "    words = text.split(' ')\n",
        "    print(words)\n",
        "  # word에 id를 부여하자. \n",
        "    word_to_id = { }\n",
        "    id_to_word = { }\n",
        "    for word in words:\n",
        "        if word not in word_to_id:\n",
        "            new_id = len(word_to_id)\n",
        "            id_to_word[new_id] = word\n",
        "            word_to_id[word] = new_id\n",
        "\n",
        "  # word에 부여된 id를 이용해서 행렬(배열, array)을 생성하자. \n",
        "    corpus = [word_to_id[w] for w in words]\n",
        "    return corpus, word_to_id, id_to_word"
      ],
      "execution_count": 0,
      "outputs": []
    },
    {
      "cell_type": "code",
      "metadata": {
        "id": "GDub00rJ841A",
        "colab_type": "code",
        "colab": {}
      },
      "source": [
        "corpus, word_to_id, id_to_word = preprocess(text)"
      ],
      "execution_count": 0,
      "outputs": []
    },
    {
      "cell_type": "markdown",
      "metadata": {
        "id": "7dG4pmONq5Np",
        "colab_type": "text"
      },
      "source": [
        "## 단어의 분산 표현 , 분포가설(Distributional hypothesis)"
      ]
    },
    {
      "cell_type": "markdown",
      "metadata": {
        "id": "W4AkZVvmr3vN",
        "colab_type": "text"
      },
      "source": [
        "색은 RGB 컬러로 모두 표현 가능하다. 다시 말해 색은 Red, Green, Blue가 어떤 비율로 섞여 있는지를 3차원 벡터로 표현할 수 있다. \n",
        "색을 벡터로 표현하듯이 '단어'도 벡터로 표현할 수 있을까? '단어의 의미'를 어떻게 벡터로 표현할 수 있을까? \n",
        "\n",
        "\n",
        "> **분포 가설 : 단어의 의미는 주변 단어에 의해 형성된다**\n",
        "\n"
      ]
    },
    {
      "cell_type": "markdown",
      "metadata": {
        "id": "ao3LD6iPtHQV",
        "colab_type": "text"
      },
      "source": [
        "## 동시발생 행렬(Co-occurrence Matrix) 구하기\n",
        "create_co_matrix(corpus, vocab_size, window_size = 1) = co_matrix"
      ]
    },
    {
      "cell_type": "code",
      "metadata": {
        "id": "ViIpbbZHtX5H",
        "colab_type": "code",
        "colab": {}
      },
      "source": [
        "def create_co_matrix(corpus, vocab_size, window_size = 2) : # window_size는 2로 기본 설정되어 있다. \n",
        "    corpus_size = len(corpus)\n",
        "    co_matrix = np.zeros((vocab_size, vocab_size), dtype = np.int32 )  # 영행렬을 먼저 생성한다.\n",
        "    \n",
        "    for idx, word_id in enumerate(corpus) :     # enumerate 함수는 corpus 리스트의 원소의 순서와 값을 전달하는 기능을 한다. \n",
        "        for i in range(1, window_size + 1) :\n",
        "            left_idx = idx - i\n",
        "            right_idx = idx + i\n",
        "\n",
        "            if left_idx >= 0 :\n",
        "                left_word_id = corpus [left_idx]\n",
        "                co_matrix[word_id, left_word_id] += 1\n",
        "\n",
        "            if right_idx < corpus_size : \n",
        "                right_word_id = corpus [right_idx]\n",
        "                co_matrix[word_id, right_word_id] += 1\n",
        "    return co_matrix"
      ],
      "execution_count": 0,
      "outputs": []
    },
    {
      "cell_type": "code",
      "metadata": {
        "id": "Cm5ZgCDjvlOg",
        "colab_type": "code",
        "colab": {
          "base_uri": "https://localhost:8080/",
          "height": 34
        },
        "outputId": "94fdcd4c-8497-4106-8fbd-84d614d674cb"
      },
      "source": [
        "import time\n",
        "start = time.time()\n",
        "C = create_co_matrix(corpus, len(id_to_word))\n",
        "print(\"코드 실행 시간은 %s초 입니다.\" %(time.time() - start) )   # 약 8초의 시간이 걸리네요. "
      ],
      "execution_count": 44,
      "outputs": [
        {
          "output_type": "stream",
          "text": [
            "코드 실행 시간은 8.802623510360718초 입니다.\n"
          ],
          "name": "stdout"
        }
      ]
    },
    {
      "cell_type": "markdown",
      "metadata": {
        "id": "ManNN16TxrFi",
        "colab_type": "text"
      },
      "source": [
        "## 코사인 유사도(Cosine Similarity)\n",
        "\n",
        "cos_similarity(x, y, eps = 1e-8)\n",
        "</br> \n",
        "most_similar(query, word_to_id, id_to_word, word_matrix, top = 5)"
      ]
    },
    {
      "cell_type": "markdown",
      "metadata": {
        "id": "jjEPoI5uy5VL",
        "colab_type": "text"
      },
      "source": [
        "벡터의 유사도를 측정하는 방법은 다양합니다. 단어 벡터의 유사도를 나타낼 때는 다음의 코사인 유사도를 자주 이용합니다.\n",
        "<br/>  \n",
        "$$ \n",
        "\\rm cos\\_similarity(x, y) = \\rm \\frac{x\cdot y}{\\vert{x}\\vert\\vert{y}\\vert} = \\frac {x_1y_1+ \\cdots+x_ny_n } {\\sqrt{x_1^2+\\cdots+x_n^2}\\sqrt{y_1^2+\\cdots+y_n^2}}\n",
        "$$"
      ]
    },
    {
      "cell_type": "code",
      "metadata": {
        "id": "lQ9HFTsuxypZ",
        "colab_type": "code",
        "colab": {}
      },
      "source": [
        "def cos_similarity(x, y, eps = 1e-8) : \n",
        "\n",
        "    nx = x / np.sqrt(np.sum(x**2) + eps)\n",
        "    ny = y / np.sqrt(np.sum(y**2) + eps)\n",
        "    return np.dot(nx, ny)"
      ],
      "execution_count": 0,
      "outputs": []
    },
    {
      "cell_type": "code",
      "metadata": {
        "id": "t3tUftqAzT1N",
        "colab_type": "code",
        "outputId": "298921de-7104-4219-82ed-ad685476d9dd",
        "colab": {
          "base_uri": "https://localhost:8080/",
          "height": 34
        }
      },
      "source": [
        "cos_similarity(C[word_to_id['you']], C[word_to_id['i']])"
      ],
      "execution_count": 46,
      "outputs": [
        {
          "output_type": "execute_result",
          "data": {
            "text/plain": [
              "0.856844539233935"
            ]
          },
          "metadata": {
            "tags": []
          },
          "execution_count": 46
        }
      ]
    },
    {
      "cell_type": "code",
      "metadata": {
        "id": "OurVzw-MgIVj",
        "colab_type": "code",
        "outputId": "e1608a64-5599-40a2-b0c6-afe2cc86d762",
        "colab": {
          "base_uri": "https://localhost:8080/",
          "height": 34
        }
      },
      "source": [
        "cos_similarity(C[word_to_id['want']], C[word_to_id['need']])"
      ],
      "execution_count": 47,
      "outputs": [
        {
          "output_type": "execute_result",
          "data": {
            "text/plain": [
              "0.8679241153319063"
            ]
          },
          "metadata": {
            "tags": []
          },
          "execution_count": 47
        }
      ]
    },
    {
      "cell_type": "code",
      "metadata": {
        "id": "No6NP2X3gPf6",
        "colab_type": "code",
        "outputId": "dd06ce7a-be00-4c91-b02c-de5c349aa84f",
        "colab": {
          "base_uri": "https://localhost:8080/",
          "height": 34
        }
      },
      "source": [
        "cos_similarity(C[word_to_id['watch']], C[word_to_id['time']])"
      ],
      "execution_count": 48,
      "outputs": [
        {
          "output_type": "execute_result",
          "data": {
            "text/plain": [
              "0.7797075632081957"
            ]
          },
          "metadata": {
            "tags": []
          },
          "execution_count": 48
        }
      ]
    },
    {
      "cell_type": "code",
      "metadata": {
        "id": "zpHT37YUgcoH",
        "colab_type": "code",
        "outputId": "baffe1ed-dd7f-4497-8caa-32ad908bea55",
        "colab": {
          "base_uri": "https://localhost:8080/",
          "height": 34
        }
      },
      "source": [
        "cos_similarity(C[word_to_id['time']], C[word_to_id['chicken']])"
      ],
      "execution_count": 49,
      "outputs": [
        {
          "output_type": "execute_result",
          "data": {
            "text/plain": [
              "0.3589142960197356"
            ]
          },
          "metadata": {
            "tags": []
          },
          "execution_count": 49
        }
      ]
    },
    {
      "cell_type": "markdown",
      "metadata": {
        "id": "QhGNckPhfiVa",
        "colab_type": "text"
      },
      "source": [
        "### Co ocurrence matrix에서 cos 유사도가 가지는 문제점"
      ]
    },
    {
      "cell_type": "code",
      "metadata": {
        "id": "wkEdi8rT_Nma",
        "colab_type": "code",
        "outputId": "18789881-92a9-4b72-d923-bcdf0db1d05b",
        "colab": {
          "base_uri": "https://localhost:8080/",
          "height": 34
        }
      },
      "source": [
        "cos_similarity(C[word_to_id['an']], C[word_to_id['apple']])"
      ],
      "execution_count": 74,
      "outputs": [
        {
          "output_type": "execute_result",
          "data": {
            "text/plain": [
              "0.5865283488614302"
            ]
          },
          "metadata": {
            "tags": []
          },
          "execution_count": 74
        }
      ]
    },
    {
      "cell_type": "code",
      "metadata": {
        "id": "8kwC_GlmP4lm",
        "colab_type": "code",
        "colab": {
          "base_uri": "https://localhost:8080/",
          "height": 34
        },
        "outputId": "f750de2d-bb0e-4747-9356-ae29044067b7"
      },
      "source": [
        "cos_similarity(C[word_to_id['pie']], C[word_to_id['apple']])"
      ],
      "execution_count": 78,
      "outputs": [
        {
          "output_type": "execute_result",
          "data": {
            "text/plain": [
              "0.6401708330452353"
            ]
          },
          "metadata": {
            "tags": []
          },
          "execution_count": 78
        }
      ]
    },
    {
      "cell_type": "code",
      "metadata": {
        "id": "xlcuIwc3_f09",
        "colab_type": "code",
        "outputId": "a4fa32c9-f6b4-4ff2-8af9-00e8022f3200",
        "colab": {
          "base_uri": "https://localhost:8080/",
          "height": 34
        }
      },
      "source": [
        "cos_similarity(C[word_to_id['he']], C[word_to_id['she']]) # 동시발생행렬에서의 he 와 she 의 비교"
      ],
      "execution_count": 68,
      "outputs": [
        {
          "output_type": "execute_result",
          "data": {
            "text/plain": [
              "0.9435928089807651"
            ]
          },
          "metadata": {
            "tags": []
          },
          "execution_count": 68
        }
      ]
    },
    {
      "cell_type": "code",
      "metadata": {
        "id": "A4PdwMCsh6K-",
        "colab_type": "code",
        "outputId": "60c9d7c9-c336-4c98-a713-5bcada344598",
        "colab": {
          "base_uri": "https://localhost:8080/",
          "height": 34
        }
      },
      "source": [
        "cos_similarity(C[word_to_id['he']], C[word_to_id['is']])  # the와 car가 가까울 필요가 없다. "
      ],
      "execution_count": 69,
      "outputs": [
        {
          "output_type": "execute_result",
          "data": {
            "text/plain": [
              "0.6473012938158347"
            ]
          },
          "metadata": {
            "tags": []
          },
          "execution_count": 69
        }
      ]
    },
    {
      "cell_type": "markdown",
      "metadata": {
        "id": "qI2AEIdAACic",
        "colab_type": "text"
      },
      "source": [
        "### most_similarity를 계산해보자."
      ]
    },
    {
      "cell_type": "code",
      "metadata": {
        "id": "-0VfgfBIAKJa",
        "colab_type": "code",
        "colab": {}
      },
      "source": [
        "def most_similar(query, word_to_id, id_to_word, word_matrix, top = 5):\n",
        "    # 검색어를 꺼낸다. \n",
        "    if query not in word_to_id:\n",
        "        print('%s 를 찾을 수 없습니다.' % query)\n",
        "        return\n",
        "        \n",
        "    print('[query] : ', query)\n",
        "    query_id = word_to_id[query]\n",
        "    query_vec = word_matrix[query_id]\n",
        "    \n",
        "    # 코사인 유사도 계산\n",
        "    vocab_size = len(id_to_word)\n",
        "    similarity = np.zeros(vocab_size)\n",
        "    for i in range(vocab_size) : \n",
        "        similarity[i] = cos_similarity(word_matrix[i], query_vec)\n",
        "    \n",
        "    # 코사인 유사도를 기준으로 내림차순으로 출력\n",
        "    count = 0\n",
        "    for i in (-1*similarity).argsort(): \n",
        "        if id_to_word[i] == query : \n",
        "            continue\n",
        "        print (' %s : %s ' %(id_to_word[i], similarity[i]))\n",
        "        \n",
        "        count += 1 \n",
        "        if count >= top : \n",
        "            return"
      ],
      "execution_count": 0,
      "outputs": []
    },
    {
      "cell_type": "code",
      "metadata": {
        "id": "-D60emLYCHVF",
        "colab_type": "code",
        "outputId": "7d7dd6da-5758-41b8-bdc3-c442cf159d6d",
        "colab": {
          "base_uri": "https://localhost:8080/",
          "height": 122
        }
      },
      "source": [
        "most_similar('time', word_to_id, id_to_word, C, top = 5)"
      ],
      "execution_count": 54,
      "outputs": [
        {
          "output_type": "stream",
          "text": [
            "[query] :  time\n",
            " project : 0.9117031177710373 \n",
            " way : 0.9115633134918169 \n",
            " game : 0.9088898829418934 \n",
            " transaction : 0.9085065078219879 \n",
            " study : 0.9067665132682426 \n"
          ],
          "name": "stdout"
        }
      ]
    },
    {
      "cell_type": "code",
      "metadata": {
        "id": "ddEUG8LKDBeB",
        "colab_type": "code",
        "outputId": "507253d3-37fd-49e1-d0f4-bc45fc81f474",
        "colab": {
          "base_uri": "https://localhost:8080/",
          "height": 122
        }
      },
      "source": [
        "most_similar('drive', word_to_id, id_to_word, C, top = 5)"
      ],
      "execution_count": 55,
      "outputs": [
        {
          "output_type": "stream",
          "text": [
            "[query] :  drive\n",
            " play : 0.8528594623239281 \n",
            " start : 0.8355060519457627 \n",
            " run : 0.8334681693021175 \n",
            " launch : 0.8333625415537904 \n",
            " plan : 0.8296271382869618 \n"
          ],
          "name": "stdout"
        }
      ]
    },
    {
      "cell_type": "code",
      "metadata": {
        "id": "eTiWFEepDjNM",
        "colab_type": "code",
        "outputId": "8fb45cb8-8601-4876-961b-62869522101b",
        "colab": {
          "base_uri": "https://localhost:8080/",
          "height": 122
        }
      },
      "source": [
        "most_similar('korea', word_to_id, id_to_word, C, top = 5)"
      ],
      "execution_count": 56,
      "outputs": [
        {
          "output_type": "stream",
          "text": [
            "[query] :  korea\n",
            " carolina : 0.9094060136328884 \n",
            " africa : 0.8992616581545659 \n",
            " gardens : 0.8185984007337492 \n",
            " african : 0.7864616290025496 \n",
            " korean : 0.7585169775794639 \n"
          ],
          "name": "stdout"
        }
      ]
    },
    {
      "cell_type": "code",
      "metadata": {
        "id": "ZMrRx9baHZ9Q",
        "colab_type": "code",
        "outputId": "34ceb6e7-65be-4949-c601-c47950318a92",
        "colab": {
          "base_uri": "https://localhost:8080/",
          "height": 122
        }
      },
      "source": [
        "most_similar('happy', word_to_id, id_to_word, C, top = 5)"
      ],
      "execution_count": 58,
      "outputs": [
        {
          "output_type": "stream",
          "text": [
            "[query] :  happy\n",
            " sure : 0.6774443817612392 \n",
            " need : 0.6632733796166624 \n",
            " hope : 0.6617353522854461 \n",
            " not : 0.6591013536415403 \n",
            " thought : 0.6558402278521558 \n"
          ],
          "name": "stdout"
        }
      ]
    },
    {
      "cell_type": "markdown",
      "metadata": {
        "id": "iHlDFqusElLc",
        "colab_type": "text"
      },
      "source": [
        "## 통계 기반 기법 개선하기, PPMI\n",
        "ppmi(C, verbose = False, eps = 1e-8)"
      ]
    },
    {
      "cell_type": "markdown",
      "metadata": {
        "id": "ucJn6NMdr2Rp",
        "colab_type": "text"
      },
      "source": [
        "\n",
        "PMI는 확률변수 x, y에 대하여 다음 식으로 정의됩니다.\n",
        "</br>  \n",
        "$$ \\rm PMI(\\it x, y \\rm) = \\log_2 \\frac{P(\\it x,y \\rm)}{P(\\it x)\\rm P(\\it y \\rm)}$$\n",
        "</br>  \n",
        "$ P(x) $는 $x$가 일어날 확률, $ P(x,y) $는 $x, y$가 동시에 일어날 확률을 뜻합니다. 이 PMI 값이 높을수록 관련성이 높다는 의미입니다. \n",
        "\n",
        "</br>  \n",
        "$$ \\rm PMI(\\it x, y \\rm) = \\log_2 \\frac{P(\\it x,y \\rm)}{P(\\it x)\\rm P(\\it y \\rm)}=\\log_2 \\frac{\\frac{C(x,y)}{N}}{\\frac{C(x)}{N}\\frac{C(y)}{N}}\n",
        "=\\log_2 \\frac{C(x,y)\\cdot N}{C(x)C(y)}$$\n",
        "</br>  \n",
        "\n",
        "위 식에 따라 동시 발생행렬로부터 PMI를 구할 수 있습니다. \n",
        "</br>\n",
        "예를들어 \"the\"와 \"car\"와 \"drive\"가 각각 1000번, 20번, 10번 등장했다고 해보죠. </br>\n",
        "그리고 \"the\"와 \"car\"의 동시발생 수는 10회, \"car\"와 \"drive\"의 동시발생 수는 5회라고 가정합시다. \n",
        "</br>\n",
        "이 조건이라면, 동시발생횟수의 관점에서는 \"car\"는 \"drive\"보다 \"the\"와 관련이 깊다고 나옵니다. 그렇다면 PMI관점에서는 어떨까요? "
      ]
    },
    {
      "cell_type": "code",
      "metadata": {
        "id": "I2wXscCZEtoN",
        "colab_type": "code",
        "colab": {}
      },
      "source": [
        "def ppmi(C, verbose = False, eps = 1e-8): #verbose = True 이면, 실행과정을 실시간으로 체킹하면서 진행된다.\n",
        "    M = np.zeros_like(C, dtype = np.float32)\n",
        "    N = np.sum(C)           # 행렬 C에 있는 모든 성분의 합을 계산한다. \n",
        "    S = np.sum(C, axis = 0) # 각 열의 합을 행렬의 열의 성분으로 하는 행렬을 만든다.\n",
        "    total = C.shape[0] * C.shape[1]\n",
        "    cnt = 0 \n",
        "\n",
        "    for i in range(C.shape[0]) : \n",
        "        for j in range(C.shape[1]) :\n",
        "            pmi = np.log2(C[i, j] * N / (S[j]  * S[i])+ eps)   # 이 수식은 과연 타당한가? window_size가 변해도 불변한가?\n",
        "            M[i, j] = max(0, pmi)\n",
        "\n",
        "            # 코드가 작동하는 과정을 알려주는 코드를 작성해봅시다. \n",
        "            if verbose : \n",
        "                cnt += 1\n",
        "                if cnt % (total // 100) == 0:\n",
        "                    print('%.1f%% 완료' % (100*cnt/total)) \n",
        "    return M"
      ],
      "execution_count": 0,
      "outputs": []
    },
    {
      "cell_type": "code",
      "metadata": {
        "id": "FJ674ZOsGlMv",
        "colab_type": "code",
        "colab": {}
      },
      "source": [
        "import time\n",
        "start = time.time()\n",
        "W = ppmi(C, True) ## 엄청나게 오래 걸리는 군요.....약 462초가 걸립니다. (약 8분 정도)\n",
        "print(\"time :\", time.time() - start)"
      ],
      "execution_count": 0,
      "outputs": []
    },
    {
      "cell_type": "code",
      "metadata": {
        "id": "qjaa_VCt0Ben",
        "colab_type": "code",
        "outputId": "351af358-ca33-4311-cd3a-53558953ccf5",
        "colab": {
          "base_uri": "https://localhost:8080/",
          "height": 34
        }
      },
      "source": [
        "cos_similarity(W[word_to_id['you']], W[word_to_id['i']]) "
      ],
      "execution_count": 79,
      "outputs": [
        {
          "output_type": "execute_result",
          "data": {
            "text/plain": [
              "0.2698889"
            ]
          },
          "metadata": {
            "tags": []
          },
          "execution_count": 79
        }
      ]
    },
    {
      "cell_type": "code",
      "metadata": {
        "id": "SZ0HTbtpl2vv",
        "colab_type": "code",
        "outputId": "d7701d00-c18b-44b6-e34f-d526a3c53c80",
        "colab": {
          "base_uri": "https://localhost:8080/",
          "height": 34
        }
      },
      "source": [
        "cos_similarity(W[word_to_id['want']], W[word_to_id['need']]) "
      ],
      "execution_count": 80,
      "outputs": [
        {
          "output_type": "execute_result",
          "data": {
            "text/plain": [
              "0.17659931"
            ]
          },
          "metadata": {
            "tags": []
          },
          "execution_count": 80
        }
      ]
    },
    {
      "cell_type": "markdown",
      "metadata": {
        "id": "blJNBoLALF3W",
        "colab_type": "text"
      },
      "source": [
        "PPMI 행렬로 변환 후 상호관련성이 잘 적용된 것 같은가요?"
      ]
    },
    {
      "cell_type": "code",
      "metadata": {
        "id": "EjkUtRhGmQHp",
        "colab_type": "code",
        "outputId": "898ebc85-4c9c-430b-af04-5d04085cc5b7",
        "colab": {
          "base_uri": "https://localhost:8080/",
          "height": 34
        }
      },
      "source": [
        "cos_similarity(W[word_to_id['watch']], W[word_to_id['time']])"
      ],
      "execution_count": 81,
      "outputs": [
        {
          "output_type": "execute_result",
          "data": {
            "text/plain": [
              "0.044923864"
            ]
          },
          "metadata": {
            "tags": []
          },
          "execution_count": 81
        }
      ]
    },
    {
      "cell_type": "code",
      "metadata": {
        "id": "EQtBG2o-srez",
        "colab_type": "code",
        "outputId": "21306b53-c732-415c-cc34-4bae901a6b22",
        "colab": {
          "base_uri": "https://localhost:8080/",
          "height": 34
        }
      },
      "source": [
        "cos_similarity(W[word_to_id['time']], W[word_to_id['chicken']])"
      ],
      "execution_count": 82,
      "outputs": [
        {
          "output_type": "execute_result",
          "data": {
            "text/plain": [
              "0.00023174977"
            ]
          },
          "metadata": {
            "tags": []
          },
          "execution_count": 82
        }
      ]
    },
    {
      "cell_type": "code",
      "metadata": {
        "id": "e8lPXQx1Qe8N",
        "colab_type": "code",
        "colab": {
          "base_uri": "https://localhost:8080/",
          "height": 34
        },
        "outputId": "f75d3ad4-f45b-4af9-d2e8-d68e546d9110"
      },
      "source": [
        "cos_similarity(W[word_to_id['an']], W[word_to_id['apple']])"
      ],
      "execution_count": 83,
      "outputs": [
        {
          "output_type": "execute_result",
          "data": {
            "text/plain": [
              "0.03251544"
            ]
          },
          "metadata": {
            "tags": []
          },
          "execution_count": 83
        }
      ]
    },
    {
      "cell_type": "code",
      "metadata": {
        "id": "FHczu-kiQfBC",
        "colab_type": "code",
        "colab": {
          "base_uri": "https://localhost:8080/",
          "height": 34
        },
        "outputId": "bcf961ba-2d38-44d1-c7c7-62a94b469467"
      },
      "source": [
        "cos_similarity(W[word_to_id['apple']], W[word_to_id['pie']])"
      ],
      "execution_count": 84,
      "outputs": [
        {
          "output_type": "execute_result",
          "data": {
            "text/plain": [
              "0.016076006"
            ]
          },
          "metadata": {
            "tags": []
          },
          "execution_count": 84
        }
      ]
    },
    {
      "cell_type": "code",
      "metadata": {
        "id": "jS5WEvfvQryJ",
        "colab_type": "code",
        "colab": {
          "base_uri": "https://localhost:8080/",
          "height": 34
        },
        "outputId": "df79c55a-d2d5-4b59-b1b2-39304f26a861"
      },
      "source": [
        "cos_similarity(W[word_to_id['he']], W[word_to_id['she']])"
      ],
      "execution_count": 85,
      "outputs": [
        {
          "output_type": "execute_result",
          "data": {
            "text/plain": [
              "0.22295241"
            ]
          },
          "metadata": {
            "tags": []
          },
          "execution_count": 85
        }
      ]
    },
    {
      "cell_type": "code",
      "metadata": {
        "id": "-oyNav-jQr13",
        "colab_type": "code",
        "colab": {
          "base_uri": "https://localhost:8080/",
          "height": 34
        },
        "outputId": "df836746-c659-4b03-e6dd-32b2b975feea"
      },
      "source": [
        "cos_similarity(W[word_to_id['he']], W[word_to_id['is']])"
      ],
      "execution_count": 86,
      "outputs": [
        {
          "output_type": "execute_result",
          "data": {
            "text/plain": [
              "0.18730493"
            ]
          },
          "metadata": {
            "tags": []
          },
          "execution_count": 86
        }
      ]
    },
    {
      "cell_type": "markdown",
      "metadata": {
        "id": "5tHtHHpmKhLz",
        "colab_type": "text"
      },
      "source": [
        "Co_occurence matrix를 PPMI matrix로 변환했는데도 크게 발전 향상된 점이 보이지 않는군요. 사실 PPMI matrix에도 몇가지 보완해야 할 점이 있습니다.\n",
        "<br/>\n",
        " 행렬에 0을 너무 많이 포함하고 있습니다. 이는 코사인유사도로 검증을 할 때 좋지 못한 점입니다. <br> 이렇게 원소의 대부분이 0인 행렬을 '희소행렬(Sparse matrix)'라고 합니다. </br> \n",
        " 이 행렬을 원소의 대부분이 0이 아닌 '밀집벡터'로 표현하는 것이 우리의 최종 목표입니다."
      ]
    },
    {
      "cell_type": "markdown",
      "metadata": {
        "id": "NGZ4ZYGMkpoa",
        "colab_type": "text"
      },
      "source": [
        "## 고속 SVD를 이용해서 PPMI의 차원을 축소하기"
      ]
    },
    {
      "cell_type": "code",
      "metadata": {
        "id": "3t1QQFVNZfCh",
        "colab_type": "code",
        "colab": {
          "base_uri": "https://localhost:8080/",
          "height": 34
        },
        "outputId": "8697db43-4bff-4e95-cb47-98d1d31fc261"
      },
      "source": [
        "import time\n",
        "start = time.time()\n",
        "U, Sigma, VT = randomized_svd(W, n_components = 50, n_iter = 5, random_state = None)\n",
        "print( \"time :\", time.time() - start)"
      ],
      "execution_count": 99,
      "outputs": [
        {
          "output_type": "stream",
          "text": [
            "time : 4.165820360183716\n"
          ],
          "name": "stdout"
        }
      ]
    },
    {
      "cell_type": "code",
      "metadata": {
        "id": "_bIAqmQodcSS",
        "colab_type": "code",
        "colab": {}
      },
      "source": [
        "word_vecs = U[:, :50]"
      ],
      "execution_count": 0,
      "outputs": []
    },
    {
      "cell_type": "code",
      "metadata": {
        "id": "eBo_sNqaZAqN",
        "colab_type": "code",
        "colab": {
          "base_uri": "https://localhost:8080/",
          "height": 34
        },
        "outputId": "3eb79ccd-58f9-4d40-a9e5-ed5e7b118592"
      },
      "source": [
        "cos_similarity(U[word_to_id['the']], U[word_to_id['car']])"
      ],
      "execution_count": 144,
      "outputs": [
        {
          "output_type": "execute_result",
          "data": {
            "text/plain": [
              "-0.08603712"
            ]
          },
          "metadata": {
            "tags": []
          },
          "execution_count": 144
        }
      ]
    },
    {
      "cell_type": "code",
      "metadata": {
        "id": "xqLc9ehXXE-C",
        "colab_type": "code",
        "colab": {
          "base_uri": "https://localhost:8080/",
          "height": 34
        },
        "outputId": "5b1ac88b-f261-4a5d-8f71-f1dcc64ebd53"
      },
      "source": [
        "cos_similarity(U[word_to_id['car']], U[word_to_id['drive']])"
      ],
      "execution_count": 145,
      "outputs": [
        {
          "output_type": "execute_result",
          "data": {
            "text/plain": [
              "0.32089943"
            ]
          },
          "metadata": {
            "tags": []
          },
          "execution_count": 145
        }
      ]
    },
    {
      "cell_type": "code",
      "metadata": {
        "id": "RfY1ISdJXFKU",
        "colab_type": "code",
        "colab": {
          "base_uri": "https://localhost:8080/",
          "height": 34
        },
        "outputId": "9d4063b5-9728-4554-fd1e-45d8070f251b"
      },
      "source": [
        "cos_similarity(U[word_to_id['hand']], U[word_to_id['foot']])"
      ],
      "execution_count": 146,
      "outputs": [
        {
          "output_type": "execute_result",
          "data": {
            "text/plain": [
              "0.2596391"
            ]
          },
          "metadata": {
            "tags": []
          },
          "execution_count": 146
        }
      ]
    },
    {
      "cell_type": "code",
      "metadata": {
        "id": "hBwt9itPXFGr",
        "colab_type": "code",
        "colab": {
          "base_uri": "https://localhost:8080/",
          "height": 34
        },
        "outputId": "6e01101b-bd74-46c2-a051-e6fd390c97c0"
      },
      "source": [
        "cos_similarity(U[word_to_id['hand']], U[word_to_id['square']])"
      ],
      "execution_count": 147,
      "outputs": [
        {
          "output_type": "execute_result",
          "data": {
            "text/plain": [
              "0.117882475"
            ]
          },
          "metadata": {
            "tags": []
          },
          "execution_count": 147
        }
      ]
    },
    {
      "cell_type": "code",
      "metadata": {
        "id": "zVMTbGGTXViA",
        "colab_type": "code",
        "colab": {
          "base_uri": "https://localhost:8080/",
          "height": 34
        },
        "outputId": "9252f8e2-5251-45b0-8b12-ade25591c3ce"
      },
      "source": [
        "cos_similarity(U[word_to_id['you']], U[word_to_id['i']])"
      ],
      "execution_count": 148,
      "outputs": [
        {
          "output_type": "execute_result",
          "data": {
            "text/plain": [
              "0.8244067"
            ]
          },
          "metadata": {
            "tags": []
          },
          "execution_count": 148
        }
      ]
    },
    {
      "cell_type": "code",
      "metadata": {
        "id": "0Epq-MJBbknj",
        "colab_type": "code",
        "colab": {
          "base_uri": "https://localhost:8080/",
          "height": 122
        },
        "outputId": "4585182c-ac88-4787-a944-e221fd33f5af"
      },
      "source": [
        "most_similar('car', word_to_id, id_to_word, U, top = 5)"
      ],
      "execution_count": 149,
      "outputs": [
        {
          "output_type": "stream",
          "text": [
            "[query] :  car\n",
            " luxury : 0.7192201614379883 \n",
            " auto : 0.7183030843734741 \n",
            " domestic : 0.5944321155548096 \n",
            " supplier : 0.5738705992698669 \n",
            " cars : 0.5664663910865784 \n"
          ],
          "name": "stdout"
        }
      ]
    },
    {
      "cell_type": "code",
      "metadata": {
        "id": "GPqPgUvhb031",
        "colab_type": "code",
        "colab": {
          "base_uri": "https://localhost:8080/",
          "height": 122
        },
        "outputId": "bb919029-45c3-4eca-86ac-d51ecb94703a"
      },
      "source": [
        "most_similar('tea', word_to_id, id_to_word, U, top = 5)"
      ],
      "execution_count": 150,
      "outputs": [
        {
          "output_type": "stream",
          "text": [
            "[query] :  tea\n",
            " lipton : 0.6181505918502808 \n",
            " soda : 0.6032328605651855 \n",
            " butcher : 0.597748875617981 \n",
            " sooner : 0.5691161155700684 \n",
            " roebuck : 0.5434464812278748 \n"
          ],
          "name": "stdout"
        }
      ]
    },
    {
      "cell_type": "code",
      "metadata": {
        "id": "_1_QLLyabwIh",
        "colab_type": "code",
        "colab": {
          "base_uri": "https://localhost:8080/",
          "height": 122
        },
        "outputId": "a512894b-221a-46e6-f301-8a403a54f3ad"
      },
      "source": [
        "most_similar('baseball', word_to_id, id_to_word, U, top = 5)"
      ],
      "execution_count": 151,
      "outputs": [
        {
          "output_type": "stream",
          "text": [
            "[query] :  baseball\n",
            " football : 0.7077572345733643 \n",
            " ai : 0.5825605988502502 \n",
            " game : 0.5756279230117798 \n",
            " playoffs : 0.5738546848297119 \n",
            " junior : 0.5636494159698486 \n"
          ],
          "name": "stdout"
        }
      ]
    },
    {
      "cell_type": "code",
      "metadata": {
        "id": "aQfs3Dhjbqul",
        "colab_type": "code",
        "colab": {
          "base_uri": "https://localhost:8080/",
          "height": 122
        },
        "outputId": "3d45566d-fb74-4a02-ac76-27ba19b146ba"
      },
      "source": [
        "most_similar('class', word_to_id, id_to_word, U, top = 5)"
      ],
      "execution_count": 152,
      "outputs": [
        {
          "output_type": "stream",
          "text": [
            "[query] :  class\n",
            " preferred : 0.6328577995300293 \n",
            " pop : 0.624113142490387 \n",
            " gear : 0.6112280488014221 \n",
            " common : 0.6031609177589417 \n",
            " hilton : 0.5468140840530396 \n"
          ],
          "name": "stdout"
        }
      ]
    },
    {
      "cell_type": "markdown",
      "metadata": {
        "id": "coSAIzGFWYVL",
        "colab_type": "text"
      },
      "source": [
        "## 정리하기"
      ]
    },
    {
      "cell_type": "markdown",
      "metadata": {
        "id": "xrtkt59UWdiI",
        "colab_type": "text"
      },
      "source": [
        "지금까지 했던 과정을 다시 되돌려 보면 다음과 같은 순서로 진행되었다. \n",
        "1. 텍스트 파일의 전처리 : corpus, word_to_id, id_to_word 를 생성\n",
        "2. 동시발생 행렬의 생성 : 코사인유사도를 이용하여 co_matrix 를 생성\n",
        "3. PPMI 행렬의 생성 : ppmi 를 생성 \n",
        "4. PPMI 행렬을 SVD를 통해서 밀집벡터 표현을 생성 : truncated SVD 를 이용하여  word_vecs 을 생성"
      ]
    }
  ]
}
