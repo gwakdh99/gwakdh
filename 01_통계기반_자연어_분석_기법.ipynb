{
  "nbformat": 4,
  "nbformat_minor": 0,
  "metadata": {
    "colab": {
      "name": "01. 통계기반 자연어 분석 기법",
      "provenance": [],
      "collapsed_sections": [],
      "include_colab_link": true
    },
    "kernelspec": {
      "name": "python3",
      "display_name": "Python 3"
    }
  },
  "cells": [
    {
      "cell_type": "markdown",
      "metadata": {
        "id": "view-in-github",
        "colab_type": "text"
      },
      "source": [
        "<a href=\"https://colab.research.google.com/github/gwakdh99/gwakdh/blob/master/01_%ED%86%B5%EA%B3%84%EA%B8%B0%EB%B0%98_%EC%9E%90%EC%97%B0%EC%96%B4_%EB%B6%84%EC%84%9D_%EA%B8%B0%EB%B2%95.ipynb\" target=\"_parent\"><img src=\"https://colab.research.google.com/assets/colab-badge.svg\" alt=\"Open In Colab\"/></a>"
      ]
    },
    {
      "cell_type": "markdown",
      "metadata": {
        "id": "KRtdlhlqXyIp",
        "colab_type": "text"
      },
      "source": [
        "\n",
        "## 형태소 분석 라이브러리 설치 및 호출"
      ]
    },
    {
      "cell_type": "markdown",
      "metadata": {
        "id": "yPTXB2v0b-H2",
        "colab_type": "text"
      },
      "source": [
        "### pip, konlpy, nlpy 설치"
      ]
    },
    {
      "cell_type": "code",
      "metadata": {
        "id": "YqxXjOT-Rn3F",
        "colab_type": "code",
        "colab": {}
      },
      "source": [
        "# pip 업그레이드\n",
        "!pip install --upgrade pip"
      ],
      "execution_count": 0,
      "outputs": []
    },
    {
      "cell_type": "code",
      "metadata": {
        "id": "iAMZDvXeWy1A",
        "colab_type": "code",
        "colab": {}
      },
      "source": [
        "# 한글형태소 분석기 konlpy 설치\n",
        "!pip3 install konlpy"
      ],
      "execution_count": 0,
      "outputs": []
    },
    {
      "cell_type": "code",
      "metadata": {
        "id": "R8pDK9jlZtjY",
        "colab_type": "code",
        "colab": {}
      },
      "source": [
        "# 형태소분석기 nlpy 설치\n",
        "!pip3 install nlpy"
      ],
      "execution_count": 0,
      "outputs": []
    },
    {
      "cell_type": "markdown",
      "metadata": {
        "id": "XceIm6L7cGhX",
        "colab_type": "text"
      },
      "source": [
        "### 구글드라이브 연동 설정"
      ]
    },
    {
      "cell_type": "code",
      "metadata": {
        "id": "QeqMlAfZUavZ",
        "colab_type": "code",
        "colab": {
          "base_uri": "https://localhost:8080/",
          "height": 0
        },
        "outputId": "89298642-c8ef-419a-a563-40ff082caeb5"
      },
      "source": [
        "# 구글드라이브와 연동 설정\n",
        "from google.colab import drive\n",
        "\n",
        "drive.mount('/content/drive/')"
      ],
      "execution_count": 1,
      "outputs": [
        {
          "output_type": "stream",
          "text": [
            "Go to this URL in a browser: https://accounts.google.com/o/oauth2/auth?client_id=947318989803-6bn6qk8qdgf4n4g3pfee6491hc0brc4i.apps.googleusercontent.com&redirect_uri=urn%3Aietf%3Awg%3Aoauth%3A2.0%3Aoob&scope=email%20https%3A%2F%2Fwww.googleapis.com%2Fauth%2Fdocs.test%20https%3A%2F%2Fwww.googleapis.com%2Fauth%2Fdrive%20https%3A%2F%2Fwww.googleapis.com%2Fauth%2Fdrive.photos.readonly%20https%3A%2F%2Fwww.googleapis.com%2Fauth%2Fpeopleapi.readonly&response_type=code\n",
            "\n",
            "Enter your authorization code:\n",
            "··········\n",
            "Mounted at /content/drive/\n"
          ],
          "name": "stdout"
        }
      ]
    },
    {
      "cell_type": "code",
      "metadata": {
        "id": "DoVhytDKaojB",
        "colab_type": "code",
        "colab": {
          "base_uri": "https://localhost:8080/",
          "height": 0
        },
        "outputId": "e58d711f-cbfe-4ba6-aa22-72317dbca967"
      },
      "source": [
        " #구글드라이브와 Colab이 잘 연동 되었는지 확인한다.\n",
        "!ls '/content/drive/'"
      ],
      "execution_count": 2,
      "outputs": [
        {
          "output_type": "stream",
          "text": [
            "'My Drive'\n"
          ],
          "name": "stdout"
        }
      ]
    },
    {
      "cell_type": "markdown",
      "metadata": {
        "id": "NNGCNEQ4cPZg",
        "colab_type": "text"
      },
      "source": [
        "### numpy, sklearn 호출"
      ]
    },
    {
      "cell_type": "code",
      "metadata": {
        "id": "NUjkoJmReRCz",
        "colab_type": "code",
        "colab": {}
      },
      "source": [
        "#넘파이 호출\n",
        "import numpy as np\n",
        "# 고속 SVD를 위한 sklearn 모듈 호출\n",
        "from sklearn.utils.extmath import randomized_svd"
      ],
      "execution_count": 0,
      "outputs": []
    },
    {
      "cell_type": "markdown",
      "metadata": {
        "id": "mbvgW8M3QA6L",
        "colab_type": "text"
      },
      "source": [
        "## 통계기반 분석을 위한 전처리\n",
        "$ \\rm preprocess(text) =$  (corpus,  word_to_id,  id_to_word)\n",
        "\n",
        "\n",
        "\n"
      ]
    },
    {
      "cell_type": "markdown",
      "metadata": {
        "id": "8qiFgSaFascY",
        "colab_type": "text"
      },
      "source": [
        "통계 기반 기법을 살펴보기 위해서 특별한 말뭉치(corpus)를 이용할 것입니다. \n",
        "펜 트리뱅크(Penn Treebank)(PTB dataset)을 이용하겠습니다. 이 PTB 말뭉치는 텍스트 파일로 제공되며 회소한 단어를 \"<unk>\"라는 특수문자로, 구체적인 숫자를 \"N\"으로 치환되어 있습니다.총 용량은 5MB입니다."
      ]
    },
    {
      "cell_type": "code",
      "metadata": {
        "id": "wWRY9crYqZbv",
        "colab_type": "code",
        "colab": {}
      },
      "source": [
        "# 구글드라이브에 있는 ptb_train.txt 파일을 불러와 read() 메소드로 읽어준다.\n",
        "f = open(\"/content/drive/My Drive/Colab Notebooks/ptb_train.txt\", 'r')\n",
        "text = f.read()"
      ],
      "execution_count": 0,
      "outputs": []
    },
    {
      "cell_type": "code",
      "metadata": {
        "id": "gS8hDmG7gg9N",
        "colab_type": "code",
        "colab": {}
      },
      "source": [
        "# 텍스트 전처리 함수를 설정한다.\n",
        "def preprocess(text):\n",
        "    \n",
        "  # 대용량 텍스트를 공백을 기준으로 분할한다.\n",
        "    text = text.lower()\n",
        "    text = text.replace('.',' .')\n",
        "    words = text.split(' ')\n",
        "    print(words)\n",
        "  # word에 id를 부여하자. \n",
        "    word_to_id = { }\n",
        "    id_to_word = { }\n",
        "    for word in words:\n",
        "        if word not in word_to_id:\n",
        "            new_id = len(word_to_id)\n",
        "            id_to_word[new_id] = word\n",
        "            word_to_id[word] = new_id\n",
        "\n",
        "  # word에 부여된 id를 이용해서 행렬(배열, array)을 생성하자. \n",
        "    corpus = [word_to_id[w] for w in words]\n",
        "    return corpus, word_to_id, id_to_word"
      ],
      "execution_count": 0,
      "outputs": []
    },
    {
      "cell_type": "code",
      "metadata": {
        "id": "GDub00rJ841A",
        "colab_type": "code",
        "colab": {
          "base_uri": "https://localhost:8080/",
          "height": 0
        },
        "outputId": "36a1fe9f-9e03-49f3-b985-ab1d2c4c3307"
      },
      "source": [
        "corpus, word_to_id, id_to_word = preprocess(text)"
      ],
      "execution_count": 6,
      "outputs": [
        {
          "output_type": "stream",
          "text": [
            "IOPub data rate exceeded.\n",
            "The notebook server will temporarily stop sending output\n",
            "to the client in order to avoid crashing it.\n",
            "To change this limit, set the config variable\n",
            "`--NotebookApp.iopub_data_rate_limit`.\n",
            "\n",
            "Current values:\n",
            "NotebookApp.iopub_data_rate_limit=1000000.0 (bytes/sec)\n",
            "NotebookApp.rate_limit_window=3.0 (secs)\n",
            "\n"
          ],
          "name": "stderr"
        }
      ]
    },
    {
      "cell_type": "markdown",
      "metadata": {
        "id": "7dG4pmONq5Np",
        "colab_type": "text"
      },
      "source": [
        "## 단어의 분산 표현 , 분포가설(Distributional hypothesis)"
      ]
    },
    {
      "cell_type": "markdown",
      "metadata": {
        "id": "W4AkZVvmr3vN",
        "colab_type": "text"
      },
      "source": [
        "색은 RGB 컬러로 모두 표현 가능하다. 다시 말해 색은 Red, Green, Blue가 어떤 비율로 섞여 있는지를 3차원 벡터로 표현할 수 있다. <br>\n",
        "색을 벡터로 표현하듯이 '단어'도 벡터로 표현할 수 있을까? '단어의 의미'를 어떻게 벡터로 표현할 수 있을까? \n",
        "\n",
        "\n",
        "> **분포 가설 : 단어의 의미는 주변 단어에 의해 형성된다**\n",
        "\n"
      ]
    },
    {
      "cell_type": "markdown",
      "metadata": {
        "id": "ao3LD6iPtHQV",
        "colab_type": "text"
      },
      "source": [
        "## 동시발생 행렬(Co-occurrence Matrix) 구하기\n",
        "create_co_matrix(corpus, vocab_size, window_size = 1) = co_matrix"
      ]
    },
    {
      "cell_type": "code",
      "metadata": {
        "id": "ViIpbbZHtX5H",
        "colab_type": "code",
        "colab": {}
      },
      "source": [
        "def create_co_matrix(corpus, vocab_size, window_size = 2) : # window_size는 2로 기본 설정되어 있다. \n",
        "    corpus_size = len(corpus)\n",
        "    co_matrix = np.zeros((vocab_size, vocab_size), dtype = np.int32 )  # 영행렬을 먼저 생성한다.\n",
        "    \n",
        "    for idx, word_id in enumerate(corpus) :     # enumerate 함수는 corpus 리스트의 원소의 순서와 값을 전달하는 기능을 한다. \n",
        "        for i in range(1, window_size + 1) :\n",
        "            left_idx = idx - i\n",
        "            right_idx = idx + i\n",
        "\n",
        "            if left_idx >= 0 :\n",
        "                left_word_id = corpus [left_idx]\n",
        "                co_matrix[word_id, left_word_id] += 1\n",
        "\n",
        "            if right_idx < corpus_size : \n",
        "                right_word_id = corpus [right_idx]\n",
        "                co_matrix[word_id, right_word_id] += 1\n",
        "    return co_matrix"
      ],
      "execution_count": 0,
      "outputs": []
    },
    {
      "cell_type": "code",
      "metadata": {
        "id": "Cm5ZgCDjvlOg",
        "colab_type": "code",
        "outputId": "38af4b92-3962-4f4d-93bc-b0672e834b43",
        "colab": {
          "base_uri": "https://localhost:8080/",
          "height": 34
        }
      },
      "source": [
        "import time\n",
        "start = time.time()\n",
        "C = create_co_matrix(corpus, len(id_to_word))\n",
        "print(\"코드 실행 시간은 %s초 입니다.\" %(time.time() - start) )   # 약 8초의 시간이 걸리네요. "
      ],
      "execution_count": 8,
      "outputs": [
        {
          "output_type": "stream",
          "text": [
            "코드 실행 시간은 10.064759492874146초 입니다.\n"
          ],
          "name": "stdout"
        }
      ]
    },
    {
      "cell_type": "code",
      "metadata": {
        "id": "s9AXIvmcd8Ls",
        "colab_type": "code",
        "colab": {
          "base_uri": "https://localhost:8080/",
          "height": 141
        },
        "outputId": "1347b6c8-2925-4098-dc5b-330d11be306a"
      },
      "source": [
        "C"
      ],
      "execution_count": 9,
      "outputs": [
        {
          "output_type": "execute_result",
          "data": {
            "text/plain": [
              "array([[0, 1, 1, ..., 0, 0, 0],\n",
              "       [1, 0, 1, ..., 0, 0, 0],\n",
              "       [1, 1, 0, ..., 0, 0, 0],\n",
              "       ...,\n",
              "       [0, 0, 0, ..., 0, 0, 0],\n",
              "       [0, 0, 0, ..., 0, 0, 0],\n",
              "       [0, 0, 0, ..., 0, 0, 0]], dtype=int32)"
            ]
          },
          "metadata": {
            "tags": []
          },
          "execution_count": 9
        }
      ]
    },
    {
      "cell_type": "markdown",
      "metadata": {
        "id": "ManNN16TxrFi",
        "colab_type": "text"
      },
      "source": [
        "## 코사인 유사도(Cosine Similarity)\n",
        "\n",
        "cos_similarity(x, y, eps = 1e-8)\n",
        "</br> \n",
        "most_similar(query, word_to_id, id_to_word, word_matrix, top = 5)"
      ]
    },
    {
      "cell_type": "markdown",
      "metadata": {
        "id": "jjEPoI5uy5VL",
        "colab_type": "text"
      },
      "source": [
        "벡터의 유사도를 측정하는 방법은 다양합니다. 단어 벡터의 유사도를 나타낼 때는 다음의 코사인 유사도를 자주 이용합니다.\n",
        "<br/>  \n",
        "$$ \n",
        "\\rm cos\\_similarity(x, y) = \\rm \\frac{x\\cdot y}{\\vert{x}\\vert \\vert{y}\\vert} = \\frac {x_1y_1+ \\cdots+x_ny_n } {\\sqrt{x_1^2+\\cdots+x_n^2}\\sqrt{y_1^2+\\cdots+y_n^2}}\n",
        "$$"
      ]
    },
    {
      "cell_type": "code",
      "metadata": {
        "id": "lQ9HFTsuxypZ",
        "colab_type": "code",
        "colab": {}
      },
      "source": [
        "def cos_similarity(x, y, eps = 1e-8) : \n",
        "\n",
        "    nx = x / np.sqrt(np.sum(x**2) + eps)\n",
        "    ny = y / np.sqrt(np.sum(y**2) + eps)\n",
        "    return np.dot(nx, ny)"
      ],
      "execution_count": 0,
      "outputs": []
    },
    {
      "cell_type": "code",
      "metadata": {
        "id": "t3tUftqAzT1N",
        "colab_type": "code",
        "outputId": "bbbb22d1-03ce-4190-a133-5f2db8e94cae",
        "colab": {
          "base_uri": "https://localhost:8080/",
          "height": 34
        }
      },
      "source": [
        "cos_similarity(C[word_to_id['you']], C[word_to_id['i']])"
      ],
      "execution_count": 11,
      "outputs": [
        {
          "output_type": "execute_result",
          "data": {
            "text/plain": [
              "0.856844539233935"
            ]
          },
          "metadata": {
            "tags": []
          },
          "execution_count": 11
        }
      ]
    },
    {
      "cell_type": "code",
      "metadata": {
        "id": "OurVzw-MgIVj",
        "colab_type": "code",
        "outputId": "246faa78-6c96-4a4d-d977-627fa86f9fe6",
        "colab": {
          "base_uri": "https://localhost:8080/",
          "height": 34
        }
      },
      "source": [
        "cos_similarity(C[word_to_id['want']], C[word_to_id['need']])"
      ],
      "execution_count": 12,
      "outputs": [
        {
          "output_type": "execute_result",
          "data": {
            "text/plain": [
              "0.8679241153319063"
            ]
          },
          "metadata": {
            "tags": []
          },
          "execution_count": 12
        }
      ]
    },
    {
      "cell_type": "code",
      "metadata": {
        "id": "No6NP2X3gPf6",
        "colab_type": "code",
        "outputId": "02136ec7-059b-417b-b0ba-7f6faed5e641",
        "colab": {
          "base_uri": "https://localhost:8080/",
          "height": 34
        }
      },
      "source": [
        "cos_similarity(C[word_to_id['watch']], C[word_to_id['time']])"
      ],
      "execution_count": 13,
      "outputs": [
        {
          "output_type": "execute_result",
          "data": {
            "text/plain": [
              "0.7797075632081957"
            ]
          },
          "metadata": {
            "tags": []
          },
          "execution_count": 13
        }
      ]
    },
    {
      "cell_type": "code",
      "metadata": {
        "id": "zpHT37YUgcoH",
        "colab_type": "code",
        "outputId": "1485e287-bc02-4efe-c149-5632d160a107",
        "colab": {
          "base_uri": "https://localhost:8080/",
          "height": 34
        }
      },
      "source": [
        "cos_similarity(C[word_to_id['time']], C[word_to_id['chicken']])"
      ],
      "execution_count": 14,
      "outputs": [
        {
          "output_type": "execute_result",
          "data": {
            "text/plain": [
              "0.3589142960197356"
            ]
          },
          "metadata": {
            "tags": []
          },
          "execution_count": 14
        }
      ]
    },
    {
      "cell_type": "markdown",
      "metadata": {
        "id": "QhGNckPhfiVa",
        "colab_type": "text"
      },
      "source": [
        "### Co ocurrence matrix에서 cos 유사도가 가지는 문제점"
      ]
    },
    {
      "cell_type": "code",
      "metadata": {
        "id": "wkEdi8rT_Nma",
        "colab_type": "code",
        "outputId": "d720f721-153f-41e5-b9eb-1ce37013dc30",
        "colab": {
          "base_uri": "https://localhost:8080/",
          "height": 34
        }
      },
      "source": [
        "cos_similarity(C[word_to_id['an']], C[word_to_id['apple']])"
      ],
      "execution_count": 15,
      "outputs": [
        {
          "output_type": "execute_result",
          "data": {
            "text/plain": [
              "0.5865283488614302"
            ]
          },
          "metadata": {
            "tags": []
          },
          "execution_count": 15
        }
      ]
    },
    {
      "cell_type": "code",
      "metadata": {
        "id": "8kwC_GlmP4lm",
        "colab_type": "code",
        "outputId": "763d7cd2-48cd-46bd-c335-62eacc8f295d",
        "colab": {
          "base_uri": "https://localhost:8080/",
          "height": 34
        }
      },
      "source": [
        "cos_similarity(C[word_to_id['pie']], C[word_to_id['apple']])"
      ],
      "execution_count": 16,
      "outputs": [
        {
          "output_type": "execute_result",
          "data": {
            "text/plain": [
              "0.6401708330452353"
            ]
          },
          "metadata": {
            "tags": []
          },
          "execution_count": 16
        }
      ]
    },
    {
      "cell_type": "code",
      "metadata": {
        "id": "xlcuIwc3_f09",
        "colab_type": "code",
        "outputId": "625ba580-7dfb-449d-e76d-0b7d0fb8b837",
        "colab": {
          "base_uri": "https://localhost:8080/",
          "height": 34
        }
      },
      "source": [
        "cos_similarity(C[word_to_id['he']], C[word_to_id['she']]) # 동시발생행렬에서의 he 와 she 의 유사도 비교"
      ],
      "execution_count": 17,
      "outputs": [
        {
          "output_type": "execute_result",
          "data": {
            "text/plain": [
              "0.9435928089807651"
            ]
          },
          "metadata": {
            "tags": []
          },
          "execution_count": 17
        }
      ]
    },
    {
      "cell_type": "code",
      "metadata": {
        "id": "A4PdwMCsh6K-",
        "colab_type": "code",
        "outputId": "7eb828c6-2a2e-4463-f8c4-8b2761ee2159",
        "colab": {
          "base_uri": "https://localhost:8080/",
          "height": 34
        }
      },
      "source": [
        "cos_similarity(C[word_to_id['he']], C[word_to_id['is']])  # he와 is의 유사도 비교, 당연히 유사성이 높게 나타날 것으로 예상이 된다."
      ],
      "execution_count": 19,
      "outputs": [
        {
          "output_type": "execute_result",
          "data": {
            "text/plain": [
              "0.6473012938158347"
            ]
          },
          "metadata": {
            "tags": []
          },
          "execution_count": 19
        }
      ]
    },
    {
      "cell_type": "markdown",
      "metadata": {
        "id": "qI2AEIdAACic",
        "colab_type": "text"
      },
      "source": [
        "### most_similarity를 계산해보자."
      ]
    },
    {
      "cell_type": "code",
      "metadata": {
        "id": "-0VfgfBIAKJa",
        "colab_type": "code",
        "colab": {}
      },
      "source": [
        "def most_similar(query, word_to_id, id_to_word, word_matrix, top = 5):\n",
        "    # 검색어를 꺼낸다. \n",
        "    if query not in word_to_id:\n",
        "        print('%s 를 찾을 수 없습니다.' % query)\n",
        "        return\n",
        "        \n",
        "    print('[query] : ', query)\n",
        "    query_id = word_to_id[query]\n",
        "    query_vec = word_matrix[query_id]\n",
        "    \n",
        "    # 코사인 유사도 계산\n",
        "    vocab_size = len(id_to_word)\n",
        "    similarity = np.zeros(vocab_size)\n",
        "    for i in range(vocab_size) : \n",
        "        similarity[i] = cos_similarity(word_matrix[i], query_vec)\n",
        "    \n",
        "    # 코사인 유사도를 기준으로 내림차순으로 출력\n",
        "    count = 0\n",
        "    for i in (-1*similarity).argsort(): \n",
        "        if id_to_word[i] == query : \n",
        "            continue\n",
        "        print (' %s : %s ' %(id_to_word[i], similarity[i]))\n",
        "        \n",
        "        count += 1 \n",
        "        if count >= top : \n",
        "            return"
      ],
      "execution_count": 0,
      "outputs": []
    },
    {
      "cell_type": "code",
      "metadata": {
        "id": "eTiWFEepDjNM",
        "colab_type": "code",
        "outputId": "09c6a83d-7c26-4b76-d647-62256033459b",
        "colab": {
          "base_uri": "https://localhost:8080/",
          "height": 124
        }
      },
      "source": [
        "most_similar('korea', word_to_id, id_to_word, C, top = 5)"
      ],
      "execution_count": 25,
      "outputs": [
        {
          "output_type": "stream",
          "text": [
            "[query] :  korea\n",
            " carolina : 0.9094060136328884 \n",
            " africa : 0.8992616581545659 \n",
            " gardens : 0.8185984007337492 \n",
            " african : 0.7864616290025496 \n",
            " korean : 0.7585169775794639 \n"
          ],
          "name": "stdout"
        }
      ]
    },
    {
      "cell_type": "code",
      "metadata": {
        "id": "ZMrRx9baHZ9Q",
        "colab_type": "code",
        "outputId": "0400ef36-59e6-4812-90e5-f6336d9df6e0",
        "colab": {
          "base_uri": "https://localhost:8080/",
          "height": 124
        }
      },
      "source": [
        "most_similar('happy', word_to_id, id_to_word, C, top = 5)"
      ],
      "execution_count": 26,
      "outputs": [
        {
          "output_type": "stream",
          "text": [
            "[query] :  happy\n",
            " sure : 0.6774443817612392 \n",
            " need : 0.6632733796166624 \n",
            " hope : 0.6617353522854461 \n",
            " not : 0.6591013536415403 \n",
            " thought : 0.6558402278521558 \n"
          ],
          "name": "stdout"
        }
      ]
    },
    {
      "cell_type": "markdown",
      "metadata": {
        "id": "iHlDFqusElLc",
        "colab_type": "text"
      },
      "source": [
        "## 통계 기반 기법 개선하기, PPMI\n",
        "ppmi(C, verbose = False, eps = 1e-8)"
      ]
    },
    {
      "cell_type": "markdown",
      "metadata": {
        "id": "ucJn6NMdr2Rp",
        "colab_type": "text"
      },
      "source": [
        "\n",
        "PMI는 확률변수 x, y에 대하여 다음 식으로 정의됩니다.\n",
        "</br>  \n",
        "$$ \\rm PMI(\\it x, y \\rm) = \\log_2 \\frac{P(\\it x,y \\rm)}{P(\\it x)\\rm P(\\it y \\rm)}$$\n",
        "</br>  \n",
        "$ P(x) $는 $x$가 일어날 확률, $ P(x,y) $는 $x, y$가 동시에 일어날 확률을 뜻합니다. 이 PMI 값이 높을수록 관련성이 높다는 의미입니다. \n",
        "\n",
        "</br>  \n",
        "$$ \\rm PMI(\\it x, y \\rm) = \\log_2 \\frac{P(\\it x,y \\rm)}{P(\\it x)\\rm P(\\it y \\rm)}=\\log_2 \\frac{\\frac{C(x,y)}{N}}{\\frac{C(x)}{N}\\frac{C(y)}{N}}\n",
        "=\\log_2 \\frac{C(x,y)\\cdot N}{C(x)C(y)}$$\n",
        "</br>  \n",
        "\n",
        "위 식에 따라 동시 발생행렬로부터 PMI를 구할 수 있습니다. \n",
        "</br>\n",
        "예를들어 \"the\"와 \"car\"와 \"drive\"가 각각 1000번, 20번, 10번 등장했다고 해보죠. </br>\n",
        "그리고 \"the\"와 \"car\"의 동시발생 수는 10회, \"car\"와 \"drive\"의 동시발생 수는 5회라고 가정합시다. \n",
        "</br>\n",
        "이 조건이라면, 동시발생횟수의 관점에서는 \"car\"는 \"drive\"보다 \"the\"와 관련이 깊다고 나옵니다. 그렇다면 PMI관점에서는 어떨까요? "
      ]
    },
    {
      "cell_type": "code",
      "metadata": {
        "id": "I2wXscCZEtoN",
        "colab_type": "code",
        "colab": {}
      },
      "source": [
        "def ppmi(C, verbose = False, eps = 1e-8): #verbose = True 이면, 실행과정을 실시간으로 체킹하면서 진행된다.\n",
        "    M = np.zeros_like(C, dtype = np.float32)\n",
        "    N = np.sum(C)           # 행렬 C에 있는 모든 성분의 합을 계산한다. \n",
        "    S = np.sum(C, axis = 0) # 각 열의 합을 행렬의 열의 성분으로 하는 행렬을 만든다.\n",
        "    total = C.shape[0] * C.shape[1]\n",
        "    cnt = 0 \n",
        "\n",
        "    for i in range(C.shape[0]) : \n",
        "        for j in range(C.shape[1]) :\n",
        "            pmi = np.log2(C[i, j] * 2 * N / (S[j]  * S[i])+ eps)   # 이 수식은 과연 타당한가? window_size가 변해도 불변한가?\n",
        "            M[i, j] = max(0, pmi)\n",
        "\n",
        "            # 코드가 작동하는 과정을 알려주는 코드를 작성해봅시다. \n",
        "            if verbose : \n",
        "                cnt += 1\n",
        "                if cnt % (total // 100) == 0:\n",
        "                    print('%.1f%% 완료' % (100*cnt/total)) \n",
        "    return M"
      ],
      "execution_count": 0,
      "outputs": []
    },
    {
      "cell_type": "code",
      "metadata": {
        "id": "FJ674ZOsGlMv",
        "colab_type": "code",
        "colab": {
          "base_uri": "https://localhost:8080/",
          "height": 1000
        },
        "outputId": "485d59a6-4862-4260-863a-1e71d3c167b1"
      },
      "source": [
        "## 엄청나게 오래 걸리는 군요.....약 462초가 걸립니다. (약 8분 정도)\n",
        "import time\n",
        "start = time.time()\n",
        "W = ppmi(C, True) \n",
        "print(\"time :\", time.time() - start)"
      ],
      "execution_count": 28,
      "outputs": [
        {
          "output_type": "stream",
          "text": [
            "1.0% 완료\n",
            "2.0% 완료\n",
            "3.0% 완료\n",
            "4.0% 완료\n",
            "5.0% 완료\n",
            "6.0% 완료\n",
            "7.0% 완료\n",
            "8.0% 완료\n",
            "9.0% 완료\n",
            "10.0% 완료\n",
            "11.0% 완료\n",
            "12.0% 완료\n",
            "13.0% 완료\n",
            "14.0% 완료\n",
            "15.0% 완료\n",
            "16.0% 완료\n",
            "17.0% 완료\n",
            "18.0% 완료\n",
            "19.0% 완료\n",
            "20.0% 완료\n",
            "21.0% 완료\n",
            "22.0% 완료\n",
            "23.0% 완료\n",
            "24.0% 완료\n",
            "25.0% 완료\n",
            "26.0% 완료\n",
            "27.0% 완료\n",
            "28.0% 완료\n",
            "29.0% 완료\n",
            "30.0% 완료\n",
            "31.0% 완료\n",
            "32.0% 완료\n",
            "33.0% 완료\n",
            "34.0% 완료\n",
            "35.0% 완료\n",
            "36.0% 완료\n",
            "37.0% 완료\n",
            "38.0% 완료\n",
            "39.0% 완료\n",
            "40.0% 완료\n",
            "41.0% 완료\n",
            "42.0% 완료\n",
            "43.0% 완료\n",
            "44.0% 완료\n",
            "45.0% 완료\n",
            "46.0% 완료\n",
            "47.0% 완료\n",
            "48.0% 완료\n",
            "49.0% 완료\n",
            "50.0% 완료\n",
            "51.0% 완료\n",
            "52.0% 완료\n",
            "53.0% 완료\n",
            "54.0% 완료\n",
            "55.0% 완료\n",
            "56.0% 완료\n",
            "57.0% 완료\n",
            "58.0% 완료\n",
            "59.0% 완료\n",
            "60.0% 완료\n",
            "61.0% 완료\n",
            "62.0% 완료\n",
            "63.0% 완료\n",
            "64.0% 완료\n",
            "65.0% 완료\n",
            "66.0% 완료\n",
            "67.0% 완료\n",
            "68.0% 완료\n",
            "69.0% 완료\n",
            "70.0% 완료\n",
            "71.0% 완료\n",
            "72.0% 완료\n",
            "73.0% 완료\n",
            "74.0% 완료\n",
            "75.0% 완료\n",
            "76.0% 완료\n",
            "77.0% 완료\n",
            "78.0% 완료\n",
            "79.0% 완료\n",
            "80.0% 완료\n",
            "81.0% 완료\n",
            "82.0% 완료\n",
            "83.0% 완료\n",
            "84.0% 완료\n",
            "85.0% 완료\n",
            "86.0% 완료\n",
            "87.0% 완료\n",
            "88.0% 완료\n",
            "89.0% 완료\n",
            "90.0% 완료\n",
            "91.0% 완료\n",
            "92.0% 완료\n",
            "93.0% 완료\n",
            "94.0% 완료\n",
            "95.0% 완료\n",
            "96.0% 완료\n",
            "97.0% 완료\n",
            "98.0% 완료\n",
            "99.0% 완료\n",
            "100.0% 완료\n",
            "time : 509.05876636505127\n"
          ],
          "name": "stdout"
        }
      ]
    },
    {
      "cell_type": "code",
      "metadata": {
        "id": "qjaa_VCt0Ben",
        "colab_type": "code",
        "outputId": "08041a50-a4f4-4c32-baa3-235f5cb0af74",
        "colab": {
          "base_uri": "https://localhost:8080/",
          "height": 34
        }
      },
      "source": [
        "cos_similarity(W[word_to_id['you']], W[word_to_id['i']]) "
      ],
      "execution_count": 29,
      "outputs": [
        {
          "output_type": "execute_result",
          "data": {
            "text/plain": [
              "0.29051968"
            ]
          },
          "metadata": {
            "tags": []
          },
          "execution_count": 29
        }
      ]
    },
    {
      "cell_type": "code",
      "metadata": {
        "id": "SZ0HTbtpl2vv",
        "colab_type": "code",
        "outputId": "8c2958db-bbb6-4026-c7cb-035da1135bf1",
        "colab": {
          "base_uri": "https://localhost:8080/",
          "height": 34
        }
      },
      "source": [
        "cos_similarity(W[word_to_id['want']], W[word_to_id['need']]) "
      ],
      "execution_count": 30,
      "outputs": [
        {
          "output_type": "execute_result",
          "data": {
            "text/plain": [
              "0.19750467"
            ]
          },
          "metadata": {
            "tags": []
          },
          "execution_count": 30
        }
      ]
    },
    {
      "cell_type": "markdown",
      "metadata": {
        "id": "blJNBoLALF3W",
        "colab_type": "text"
      },
      "source": [
        "PPMI 행렬로 변환 후 상호관련성이 잘 적용된 것 같은가요?"
      ]
    },
    {
      "cell_type": "code",
      "metadata": {
        "id": "EjkUtRhGmQHp",
        "colab_type": "code",
        "outputId": "6b7510d7-9e63-4c86-d605-45f6e52ab50a",
        "colab": {
          "base_uri": "https://localhost:8080/",
          "height": 34
        }
      },
      "source": [
        "cos_similarity(W[word_to_id['watch']], W[word_to_id['time']])"
      ],
      "execution_count": 31,
      "outputs": [
        {
          "output_type": "execute_result",
          "data": {
            "text/plain": [
              "0.06328481"
            ]
          },
          "metadata": {
            "tags": []
          },
          "execution_count": 31
        }
      ]
    },
    {
      "cell_type": "code",
      "metadata": {
        "id": "EQtBG2o-srez",
        "colab_type": "code",
        "outputId": "79e56730-a823-4703-ad1a-8dd8e9a504bc",
        "colab": {
          "base_uri": "https://localhost:8080/",
          "height": 34
        }
      },
      "source": [
        "cos_similarity(W[word_to_id['time']], W[word_to_id['chicken']])"
      ],
      "execution_count": 32,
      "outputs": [
        {
          "output_type": "execute_result",
          "data": {
            "text/plain": [
              "0.0042563686"
            ]
          },
          "metadata": {
            "tags": []
          },
          "execution_count": 32
        }
      ]
    },
    {
      "cell_type": "code",
      "metadata": {
        "id": "e8lPXQx1Qe8N",
        "colab_type": "code",
        "outputId": "97a0e471-21c4-4e0a-ddca-19196790f5b9",
        "colab": {
          "base_uri": "https://localhost:8080/",
          "height": 34
        }
      },
      "source": [
        "cos_similarity(W[word_to_id['an']], W[word_to_id['apple']])"
      ],
      "execution_count": 33,
      "outputs": [
        {
          "output_type": "execute_result",
          "data": {
            "text/plain": [
              "0.04624579"
            ]
          },
          "metadata": {
            "tags": []
          },
          "execution_count": 33
        }
      ]
    },
    {
      "cell_type": "code",
      "metadata": {
        "id": "FHczu-kiQfBC",
        "colab_type": "code",
        "outputId": "da2b89ec-e1f8-4d1f-bb90-88bb3bd2802d",
        "colab": {
          "base_uri": "https://localhost:8080/",
          "height": 34
        }
      },
      "source": [
        "cos_similarity(W[word_to_id['apple']], W[word_to_id['pie']])"
      ],
      "execution_count": 34,
      "outputs": [
        {
          "output_type": "execute_result",
          "data": {
            "text/plain": [
              "0.028578984"
            ]
          },
          "metadata": {
            "tags": []
          },
          "execution_count": 34
        }
      ]
    },
    {
      "cell_type": "code",
      "metadata": {
        "id": "jS5WEvfvQryJ",
        "colab_type": "code",
        "outputId": "89f357a7-cf84-4c30-b684-8ccbc89aa05a",
        "colab": {
          "base_uri": "https://localhost:8080/",
          "height": 34
        }
      },
      "source": [
        "cos_similarity(W[word_to_id['he']], W[word_to_id['she']])"
      ],
      "execution_count": 35,
      "outputs": [
        {
          "output_type": "execute_result",
          "data": {
            "text/plain": [
              "0.251793"
            ]
          },
          "metadata": {
            "tags": []
          },
          "execution_count": 35
        }
      ]
    },
    {
      "cell_type": "code",
      "metadata": {
        "id": "-oyNav-jQr13",
        "colab_type": "code",
        "outputId": "1893b742-34d4-4bb0-f9cd-20705afca0f5",
        "colab": {
          "base_uri": "https://localhost:8080/",
          "height": 34
        }
      },
      "source": [
        "cos_similarity(W[word_to_id['he']], W[word_to_id['is']])"
      ],
      "execution_count": 36,
      "outputs": [
        {
          "output_type": "execute_result",
          "data": {
            "text/plain": [
              "0.25111777"
            ]
          },
          "metadata": {
            "tags": []
          },
          "execution_count": 36
        }
      ]
    },
    {
      "cell_type": "markdown",
      "metadata": {
        "id": "5tHtHHpmKhLz",
        "colab_type": "text"
      },
      "source": [
        "Co_occurence matrix를 PPMI matrix로 변환했는데도 크게 발전 향상된 점이 보이지 않는군요. 사실 PPMI matrix에도 몇가지 보완해야 할 점이 있습니다.\n",
        "<br/>\n",
        " 행렬에 0을 너무 많이 포함하고 있습니다. 이는 코사인유사도로 검증을 할 때 좋지 못한 점입니다. <br> 이렇게 원소의 대부분이 0인 행렬을 '희소행렬(Sparse matrix)'라고 합니다. </br> \n",
        " 이 행렬을 원소의 대부분이 0이 아닌 '밀집벡터'로 표현하는 것이 우리의 최종 목표입니다."
      ]
    },
    {
      "cell_type": "markdown",
      "metadata": {
        "id": "NGZ4ZYGMkpoa",
        "colab_type": "text"
      },
      "source": [
        "## 고속 SVD를 이용해서 PPMI의 차원을 축소하기\n",
        "\n",
        "앞의 과정에서 PPMI 행렬로도 큰 개선의 효과를 보지 못했습니다. 이는 PPMI 행렬의 대부분의 성분이 0 이기 때문에 발생하는 입니다. 여기서는 SVD에 의하여 PPMI 행렬을 대부분의 성분이 0이 없는 행렬로 만들면서 행렬의 차원을 축소하는 방법을 시도하려고 합니다. "
      ]
    },
    {
      "cell_type": "code",
      "metadata": {
        "id": "3t1QQFVNZfCh",
        "colab_type": "code",
        "outputId": "09b864a0-5cfa-465c-e297-c5247423abf9",
        "colab": {
          "base_uri": "https://localhost:8080/",
          "height": 34
        }
      },
      "source": [
        "import time\n",
        "start = time.time()\n",
        "U, Sigma, VT = randomized_svd(W, n_components = 50, n_iter = 5, random_state = None)\n",
        "print( \"time :\", time.time() - start)"
      ],
      "execution_count": 37,
      "outputs": [
        {
          "output_type": "stream",
          "text": [
            "time : 4.193021535873413\n"
          ],
          "name": "stdout"
        }
      ]
    },
    {
      "cell_type": "code",
      "metadata": {
        "id": "_bIAqmQodcSS",
        "colab_type": "code",
        "colab": {}
      },
      "source": [
        "word_vecs = U"
      ],
      "execution_count": 0,
      "outputs": []
    },
    {
      "cell_type": "code",
      "metadata": {
        "id": "eBo_sNqaZAqN",
        "colab_type": "code",
        "outputId": "1a1b9640-8008-4459-efc8-4cb255b01094",
        "colab": {
          "base_uri": "https://localhost:8080/",
          "height": 34
        }
      },
      "source": [
        "cos_similarity(U[word_to_id['the']], U[word_to_id['car']])"
      ],
      "execution_count": 39,
      "outputs": [
        {
          "output_type": "execute_result",
          "data": {
            "text/plain": [
              "-0.12006293"
            ]
          },
          "metadata": {
            "tags": []
          },
          "execution_count": 39
        }
      ]
    },
    {
      "cell_type": "code",
      "metadata": {
        "id": "xqLc9ehXXE-C",
        "colab_type": "code",
        "outputId": "8fcb3830-4b06-46ce-ca73-125ff4d08025",
        "colab": {
          "base_uri": "https://localhost:8080/",
          "height": 34
        }
      },
      "source": [
        "cos_similarity(U[word_to_id['car']], U[word_to_id['drive']])"
      ],
      "execution_count": 40,
      "outputs": [
        {
          "output_type": "execute_result",
          "data": {
            "text/plain": [
              "0.5374483"
            ]
          },
          "metadata": {
            "tags": []
          },
          "execution_count": 40
        }
      ]
    },
    {
      "cell_type": "code",
      "metadata": {
        "id": "RfY1ISdJXFKU",
        "colab_type": "code",
        "outputId": "544a7fd8-3fe9-4c01-c5cd-31ebd8b06661",
        "colab": {
          "base_uri": "https://localhost:8080/",
          "height": 34
        }
      },
      "source": [
        "cos_similarity(U[word_to_id['hand']], U[word_to_id['foot']])"
      ],
      "execution_count": 41,
      "outputs": [
        {
          "output_type": "execute_result",
          "data": {
            "text/plain": [
              "0.265809"
            ]
          },
          "metadata": {
            "tags": []
          },
          "execution_count": 41
        }
      ]
    },
    {
      "cell_type": "code",
      "metadata": {
        "id": "hBwt9itPXFGr",
        "colab_type": "code",
        "outputId": "bad636ca-2067-4a3a-a84b-13ff69704b22",
        "colab": {
          "base_uri": "https://localhost:8080/",
          "height": 34
        }
      },
      "source": [
        "cos_similarity(U[word_to_id['hand']], U[word_to_id['square']])"
      ],
      "execution_count": 42,
      "outputs": [
        {
          "output_type": "execute_result",
          "data": {
            "text/plain": [
              "0.08029217"
            ]
          },
          "metadata": {
            "tags": []
          },
          "execution_count": 42
        }
      ]
    },
    {
      "cell_type": "code",
      "metadata": {
        "id": "zVMTbGGTXViA",
        "colab_type": "code",
        "outputId": "47c3ae32-3b43-4e78-caf3-33e0011ec00d",
        "colab": {
          "base_uri": "https://localhost:8080/",
          "height": 34
        }
      },
      "source": [
        "cos_similarity(U[word_to_id['you']], U[word_to_id['i']])"
      ],
      "execution_count": 43,
      "outputs": [
        {
          "output_type": "execute_result",
          "data": {
            "text/plain": [
              "0.8164309"
            ]
          },
          "metadata": {
            "tags": []
          },
          "execution_count": 43
        }
      ]
    },
    {
      "cell_type": "code",
      "metadata": {
        "id": "JmIoBYb9jRCH",
        "colab_type": "code",
        "colab": {
          "base_uri": "https://localhost:8080/",
          "height": 34
        },
        "outputId": "615be482-5f8e-47bc-d5f0-efc79701d1e4"
      },
      "source": [
        "cos_similarity(U[word_to_id['he']], U[word_to_id['is']])"
      ],
      "execution_count": 48,
      "outputs": [
        {
          "output_type": "execute_result",
          "data": {
            "text/plain": [
              "-0.010896443"
            ]
          },
          "metadata": {
            "tags": []
          },
          "execution_count": 48
        }
      ]
    },
    {
      "cell_type": "code",
      "metadata": {
        "id": "0Epq-MJBbknj",
        "colab_type": "code",
        "outputId": "c1658f1f-c8a9-4bea-a9a7-d6a91d93a439",
        "colab": {
          "base_uri": "https://localhost:8080/",
          "height": 124
        }
      },
      "source": [
        "most_similar('car', word_to_id, id_to_word, U, top = 5)"
      ],
      "execution_count": 44,
      "outputs": [
        {
          "output_type": "stream",
          "text": [
            "[query] :  car\n",
            " auto : 0.7040649056434631 \n",
            " vehicle : 0.6611219048500061 \n",
            " luxury : 0.6101983189582825 \n",
            " supplier : 0.549781084060669 \n",
            " machine : 0.547839879989624 \n"
          ],
          "name": "stdout"
        }
      ]
    },
    {
      "cell_type": "code",
      "metadata": {
        "id": "GPqPgUvhb031",
        "colab_type": "code",
        "outputId": "a17f0a74-a664-4203-a490-6e32344b9780",
        "colab": {
          "base_uri": "https://localhost:8080/",
          "height": 124
        }
      },
      "source": [
        "most_similar('tea', word_to_id, id_to_word, U, top = 5)"
      ],
      "execution_count": 45,
      "outputs": [
        {
          "output_type": "stream",
          "text": [
            "[query] :  tea\n",
            " stanford : 0.6191537380218506 \n",
            " passing : 0.5855741500854492 \n",
            " buck : 0.5697987079620361 \n",
            " silly : 0.5520089268684387 \n",
            " camera : 0.539421558380127 \n"
          ],
          "name": "stdout"
        }
      ]
    },
    {
      "cell_type": "code",
      "metadata": {
        "id": "_1_QLLyabwIh",
        "colab_type": "code",
        "outputId": "f10aeae1-312d-47bd-ee16-89d6aaff1121",
        "colab": {
          "base_uri": "https://localhost:8080/",
          "height": 124
        }
      },
      "source": [
        "most_similar('baseball', word_to_id, id_to_word, U, top = 5)"
      ],
      "execution_count": 46,
      "outputs": [
        {
          "output_type": "stream",
          "text": [
            "[query] :  baseball\n",
            " playoffs : 0.6271432042121887 \n",
            " ai : 0.6168623566627502 \n",
            " football : 0.61551833152771 \n",
            " airing : 0.5874564051628113 \n",
            " abc : 0.5766445398330688 \n"
          ],
          "name": "stdout"
        }
      ]
    },
    {
      "cell_type": "code",
      "metadata": {
        "id": "aQfs3Dhjbqul",
        "colab_type": "code",
        "outputId": "6bc4fec7-9f91-4065-c4a8-fd7f2481a964",
        "colab": {
          "base_uri": "https://localhost:8080/",
          "height": 124
        }
      },
      "source": [
        "most_similar('class', word_to_id, id_to_word, U, top = 5)"
      ],
      "execution_count": 47,
      "outputs": [
        {
          "output_type": "stream",
          "text": [
            "[query] :  class\n",
            " preferred : 0.596575915813446 \n",
            " cumulative : 0.5398809313774109 \n",
            " common : 0.5121301412582397 \n",
            " maturity : 0.5099576115608215 \n",
            " erbamont : 0.5081135034561157 \n"
          ],
          "name": "stdout"
        }
      ]
    },
    {
      "cell_type": "markdown",
      "metadata": {
        "id": "coSAIzGFWYVL",
        "colab_type": "text"
      },
      "source": [
        "## 정리하기"
      ]
    },
    {
      "cell_type": "markdown",
      "metadata": {
        "id": "xrtkt59UWdiI",
        "colab_type": "text"
      },
      "source": [
        "지금까지 했던 과정을 다시 되돌려 보면 다음과 같은 순서로 진행되었다. \n",
        "1. 텍스트 파일의 전처리 : corpus, word_to_id, id_to_word 를 생성\n",
        "2. 동시발생 행렬의 생성 : 코사인유사도를 이용하여 co_matrix 를 생성\n",
        "3. PPMI 행렬의 생성 : ppmi 를 생성 \n",
        "4. PPMI 행렬을 SVD를 통해서 밀집벡터 표현을 생성 : truncated SVD 를 이용하여  word_vecs 을 생성"
      ]
    }
  ]
}